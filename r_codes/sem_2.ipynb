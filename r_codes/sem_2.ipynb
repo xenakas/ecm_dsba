{
 "cells": [
  {
   "cell_type": "markdown",
   "metadata": {},
   "source": [
    "## Multicollinearity"
   ]
  },
  {
   "cell_type": "code",
   "execution_count": 18,
   "metadata": {
    "ExecuteTime": {
     "end_time": "2020-10-12T06:44:34.659785Z",
     "start_time": "2020-10-12T06:44:34.643Z"
    }
   },
   "outputs": [],
   "source": [
    "library(tidyverse)\n",
    "library(caret)"
   ]
  },
  {
   "cell_type": "code",
   "execution_count": 4,
   "metadata": {
    "ExecuteTime": {
     "end_time": "2020-10-12T06:40:09.931908Z",
     "start_time": "2020-10-12T06:40:09.914Z"
    }
   },
   "outputs": [],
   "source": [
    "data(\"Boston\", package = \"MASS\")"
   ]
  },
  {
   "cell_type": "code",
   "execution_count": 5,
   "metadata": {
    "ExecuteTime": {
     "end_time": "2020-10-12T06:40:32.729514Z",
     "start_time": "2020-10-12T06:40:32.711Z"
    }
   },
   "outputs": [],
   "source": [
    "model1 <- lm(medv ~., data = Boston)"
   ]
  },
  {
   "cell_type": "code",
   "execution_count": 12,
   "metadata": {
    "ExecuteTime": {
     "end_time": "2020-10-12T06:42:04.853184Z",
     "start_time": "2020-10-12T06:42:04.791Z"
    }
   },
   "outputs": [],
   "source": [
    "?MASS::Boston"
   ]
  },
  {
   "cell_type": "code",
   "execution_count": 7,
   "metadata": {
    "ExecuteTime": {
     "end_time": "2020-10-12T06:40:46.892683Z",
     "start_time": "2020-10-12T06:40:46.864Z"
    },
    "scrolled": false
   },
   "outputs": [
    {
     "data": {
      "text/plain": [
       "\n",
       "Call:\n",
       "lm(formula = medv ~ ., data = Boston)\n",
       "\n",
       "Residuals:\n",
       "    Min      1Q  Median      3Q     Max \n",
       "-15.595  -2.730  -0.518   1.777  26.199 \n",
       "\n",
       "Coefficients:\n",
       "              Estimate Std. Error t value Pr(>|t|)    \n",
       "(Intercept)  3.646e+01  5.103e+00   7.144 3.28e-12 ***\n",
       "crim        -1.080e-01  3.286e-02  -3.287 0.001087 ** \n",
       "zn           4.642e-02  1.373e-02   3.382 0.000778 ***\n",
       "indus        2.056e-02  6.150e-02   0.334 0.738288    \n",
       "chas         2.687e+00  8.616e-01   3.118 0.001925 ** \n",
       "nox         -1.777e+01  3.820e+00  -4.651 4.25e-06 ***\n",
       "rm           3.810e+00  4.179e-01   9.116  < 2e-16 ***\n",
       "age          6.922e-04  1.321e-02   0.052 0.958229    \n",
       "dis         -1.476e+00  1.995e-01  -7.398 6.01e-13 ***\n",
       "rad          3.060e-01  6.635e-02   4.613 5.07e-06 ***\n",
       "tax         -1.233e-02  3.760e-03  -3.280 0.001112 ** \n",
       "ptratio     -9.527e-01  1.308e-01  -7.283 1.31e-12 ***\n",
       "black        9.312e-03  2.686e-03   3.467 0.000573 ***\n",
       "lstat       -5.248e-01  5.072e-02 -10.347  < 2e-16 ***\n",
       "---\n",
       "Signif. codes:  0 ‘***’ 0.001 ‘**’ 0.01 ‘*’ 0.05 ‘.’ 0.1 ‘ ’ 1\n",
       "\n",
       "Residual standard error: 4.745 on 492 degrees of freedom\n",
       "Multiple R-squared:  0.7406,\tAdjusted R-squared:  0.7338 \n",
       "F-statistic: 108.1 on 13 and 492 DF,  p-value: < 2.2e-16\n"
      ]
     },
     "metadata": {},
     "output_type": "display_data"
    }
   ],
   "source": [
    "summary(model1)"
   ]
  },
  {
   "cell_type": "code",
   "execution_count": 13,
   "metadata": {
    "ExecuteTime": {
     "end_time": "2020-10-12T06:43:25.466967Z",
     "start_time": "2020-10-12T06:43:25.288Z"
    },
    "scrolled": true
   },
   "outputs": [
    {
     "data": {
      "text/html": [
       "<dl class=dl-horizontal>\n",
       "\t<dt>crim</dt>\n",
       "\t\t<dd>1.79219154743324</dd>\n",
       "\t<dt>zn</dt>\n",
       "\t\t<dd>2.29875817874944</dd>\n",
       "\t<dt>indus</dt>\n",
       "\t\t<dd>3.99159641834602</dd>\n",
       "\t<dt>chas</dt>\n",
       "\t\t<dd>1.07399532755379</dd>\n",
       "\t<dt>nox</dt>\n",
       "\t\t<dd>4.39371984757748</dd>\n",
       "\t<dt>rm</dt>\n",
       "\t\t<dd>1.93374443578326</dd>\n",
       "\t<dt>age</dt>\n",
       "\t\t<dd>3.10082551281533</dd>\n",
       "\t<dt>dis</dt>\n",
       "\t\t<dd>3.95594490637272</dd>\n",
       "\t<dt>rad</dt>\n",
       "\t\t<dd>7.48449633527445</dd>\n",
       "\t<dt>tax</dt>\n",
       "\t\t<dd>9.00855394759706</dd>\n",
       "\t<dt>ptratio</dt>\n",
       "\t\t<dd>1.79908404924889</dd>\n",
       "\t<dt>black</dt>\n",
       "\t\t<dd>1.34852107640637</dd>\n",
       "\t<dt>lstat</dt>\n",
       "\t\t<dd>2.94149107809193</dd>\n",
       "</dl>\n"
      ],
      "text/latex": [
       "\\begin{description*}\n",
       "\\item[crim] 1.79219154743324\n",
       "\\item[zn] 2.29875817874944\n",
       "\\item[indus] 3.99159641834602\n",
       "\\item[chas] 1.07399532755379\n",
       "\\item[nox] 4.39371984757748\n",
       "\\item[rm] 1.93374443578326\n",
       "\\item[age] 3.10082551281533\n",
       "\\item[dis] 3.95594490637272\n",
       "\\item[rad] 7.48449633527445\n",
       "\\item[tax] 9.00855394759706\n",
       "\\item[ptratio] 1.79908404924889\n",
       "\\item[black] 1.34852107640637\n",
       "\\item[lstat] 2.94149107809193\n",
       "\\end{description*}\n"
      ],
      "text/markdown": [
       "crim\n",
       ":   1.79219154743324zn\n",
       ":   2.29875817874944indus\n",
       ":   3.99159641834602chas\n",
       ":   1.07399532755379nox\n",
       ":   4.39371984757748rm\n",
       ":   1.93374443578326age\n",
       ":   3.10082551281533dis\n",
       ":   3.95594490637272rad\n",
       ":   7.48449633527445tax\n",
       ":   9.00855394759706ptratio\n",
       ":   1.79908404924889black\n",
       ":   1.34852107640637lstat\n",
       ":   2.94149107809193\n",
       "\n"
      ],
      "text/plain": [
       "    crim       zn    indus     chas      nox       rm      age      dis \n",
       "1.792192 2.298758 3.991596 1.073995 4.393720 1.933744 3.100826 3.955945 \n",
       "     rad      tax  ptratio    black    lstat \n",
       "7.484496 9.008554 1.799084 1.348521 2.941491 "
      ]
     },
     "metadata": {},
     "output_type": "display_data"
    }
   ],
   "source": [
    "car::vif(model1)"
   ]
  },
  {
   "cell_type": "code",
   "execution_count": 15,
   "metadata": {
    "ExecuteTime": {
     "end_time": "2020-10-12T06:43:50.584106Z",
     "start_time": "2020-10-12T06:43:50.515Z"
    }
   },
   "outputs": [],
   "source": [
    "model2 <- lm(medv ~. -tax, data = Boston)"
   ]
  },
  {
   "cell_type": "code",
   "execution_count": 16,
   "metadata": {
    "ExecuteTime": {
     "end_time": "2020-10-12T06:44:06.547957Z",
     "start_time": "2020-10-12T06:44:06.504Z"
    }
   },
   "outputs": [
    {
     "data": {
      "text/plain": [
       "\n",
       "Call:\n",
       "lm(formula = medv ~ . - tax, data = Boston)\n",
       "\n",
       "Residuals:\n",
       "     Min       1Q   Median       3Q      Max \n",
       "-16.1449  -2.9143  -0.5661   1.7438  26.3113 \n",
       "\n",
       "Coefficients:\n",
       "              Estimate Std. Error t value Pr(>|t|)    \n",
       "(Intercept)  3.463e+01  5.123e+00   6.760 3.92e-11 ***\n",
       "crim        -1.067e-01  3.319e-02  -3.216 0.001384 ** \n",
       "zn           3.637e-02  1.351e-02   2.692 0.007354 ** \n",
       "indus       -6.778e-02  5.583e-02  -1.214 0.225317    \n",
       "chas         3.029e+00  8.637e-01   3.507 0.000494 ***\n",
       "nox         -1.870e+01  3.847e+00  -4.862 1.57e-06 ***\n",
       "rm           3.912e+00  4.209e-01   9.294  < 2e-16 ***\n",
       "age         -6.054e-04  1.333e-02  -0.045 0.963804    \n",
       "dis         -1.488e+00  2.014e-01  -7.390 6.31e-13 ***\n",
       "rad          1.346e-01  4.125e-02   3.262 0.001182 ** \n",
       "ptratio     -9.851e-01  1.317e-01  -7.478 3.48e-13 ***\n",
       "black        9.546e-03  2.711e-03   3.521 0.000470 ***\n",
       "lstat       -5.222e-01  5.121e-02 -10.198  < 2e-16 ***\n",
       "---\n",
       "Signif. codes:  0 ‘***’ 0.001 ‘**’ 0.01 ‘*’ 0.05 ‘.’ 0.1 ‘ ’ 1\n",
       "\n",
       "Residual standard error: 4.792 on 493 degrees of freedom\n",
       "Multiple R-squared:  0.735,\tAdjusted R-squared:  0.7285 \n",
       "F-statistic: 113.9 on 12 and 493 DF,  p-value: < 2.2e-16\n"
      ]
     },
     "metadata": {},
     "output_type": "display_data"
    }
   ],
   "source": [
    "summary(model2)"
   ]
  },
  {
   "cell_type": "markdown",
   "metadata": {},
   "source": [
    "## Multicollinearity 2"
   ]
  },
  {
   "cell_type": "code",
   "execution_count": 25,
   "metadata": {
    "ExecuteTime": {
     "end_time": "2020-10-12T06:54:54.345267Z",
     "start_time": "2020-10-12T06:54:38.811Z"
    }
   },
   "outputs": [
    {
     "name": "stderr",
     "output_type": "stream",
     "text": [
      "\n",
      "Attaching package: ‘MASS’\n",
      "\n",
      "The following object is masked from ‘package:dplyr’:\n",
      "\n",
      "    select\n",
      "\n"
     ]
    },
    {
     "data": {
      "text/html": [
       "<dl class=dl-horizontal>\n",
       "\t<dt>hat_beta_1</dt>\n",
       "\t\t<dd>0.0567437493133169</dd>\n",
       "\t<dt>hat_beta_2</dt>\n",
       "\t\t<dd>0.0571245875832477</dd>\n",
       "</dl>\n"
      ],
      "text/latex": [
       "\\begin{description*}\n",
       "\\item[hat\\textbackslash{}\\_beta\\textbackslash{}\\_1] 0.0567437493133169\n",
       "\\item[hat\\textbackslash{}\\_beta\\textbackslash{}\\_2] 0.0571245875832477\n",
       "\\end{description*}\n"
      ],
      "text/markdown": [
       "hat_beta_1\n",
       ":   0.0567437493133169hat_beta_2\n",
       ":   0.0571245875832477\n",
       "\n"
      ],
      "text/plain": [
       "hat_beta_1 hat_beta_2 \n",
       "0.05674375 0.05712459 "
      ]
     },
     "metadata": {},
     "output_type": "display_data"
    },
    {
     "data": {
      "text/html": [
       "<dl class=dl-horizontal>\n",
       "\t<dt>hat_beta_1</dt>\n",
       "\t\t<dd>0.190494906875032</dd>\n",
       "\t<dt>hat_beta_2</dt>\n",
       "\t\t<dd>0.190905561628281</dd>\n",
       "</dl>\n"
      ],
      "text/latex": [
       "\\begin{description*}\n",
       "\\item[hat\\textbackslash{}\\_beta\\textbackslash{}\\_1] 0.190494906875032\n",
       "\\item[hat\\textbackslash{}\\_beta\\textbackslash{}\\_2] 0.190905561628281\n",
       "\\end{description*}\n"
      ],
      "text/markdown": [
       "hat_beta_1\n",
       ":   0.190494906875032hat_beta_2\n",
       ":   0.190905561628281\n",
       "\n"
      ],
      "text/plain": [
       "hat_beta_1 hat_beta_2 \n",
       " 0.1904949  0.1909056 "
      ]
     },
     "metadata": {},
     "output_type": "display_data"
    }
   ],
   "source": [
    "# load packages\n",
    "library(MASS)\n",
    "library(mvtnorm)\n",
    "\n",
    "# set number of observations\n",
    "n <- 50\n",
    "\n",
    "# initialize vectors of coefficients\n",
    "coefs1 <- cbind(\"hat_beta_1\" = numeric(10000), \"hat_beta_2\" = numeric(10000))\n",
    "coefs2 <- coefs1\n",
    "\n",
    "# set seed\n",
    "set.seed(1)\n",
    "\n",
    "# loop sampling and estimation\n",
    "for (i in 1:10000) {\n",
    "  \n",
    "  # for cov(X_1,X_2) = 0.25\n",
    "  X <- rmvnorm(n, c(50, 100), sigma = cbind(c(10, 2.5), c(2.5, 10)))\n",
    "  u <- rnorm(n, sd = 5)\n",
    "  Y <- 5 + 2.5 * X[, 1] + 3 * X[, 2] + u\n",
    "  coefs1[i, ] <- lm(Y ~ X[, 1] + X[, 2])$coefficients[-1]\n",
    "  \n",
    "  # for cov(X_1,X_2) = 0.85\n",
    "  X <- rmvnorm(n, c(50, 100), sigma = cbind(c(10, 8.5), c(8.5, 10)))\n",
    "  Y <- 5 + 2.5 * X[, 1] + 3 * X[, 2] + u\n",
    "  coefs2[i, ] <- lm(Y ~ X[, 1] + X[, 2])$coefficients[-1]\n",
    "  \n",
    "}\n",
    "\n",
    "# obtain variance estimates\n",
    "diag(var(coefs1))\n",
    "#> hat_beta_1 hat_beta_2 \n",
    "#> 0.05674375 0.05712459\n",
    "diag(var(coefs2))\n",
    "#> hat_beta_1 hat_beta_2 \n",
    "#>  0.1904949  0.1909056"
   ]
  },
  {
   "cell_type": "markdown",
   "metadata": {},
   "source": [
    "## OVB"
   ]
  },
  {
   "cell_type": "code",
   "execution_count": 20,
   "metadata": {
    "ExecuteTime": {
     "end_time": "2020-10-12T06:48:39.324985Z",
     "start_time": "2020-10-12T06:48:39.315Z"
    }
   },
   "outputs": [],
   "source": [
    "library(AER)"
   ]
  },
  {
   "cell_type": "code",
   "execution_count": 21,
   "metadata": {
    "ExecuteTime": {
     "end_time": "2020-10-12T06:48:53.718226Z",
     "start_time": "2020-10-12T06:48:53.695Z"
    }
   },
   "outputs": [
    {
     "data": {
      "text/html": [
       "-0.226362745503256"
      ],
      "text/latex": [
       "-0.226362745503256"
      ],
      "text/markdown": [
       "-0.226362745503256"
      ],
      "text/plain": [
       "[1] -0.2263627"
      ]
     },
     "metadata": {},
     "output_type": "display_data"
    },
    {
     "data": {
      "text/html": [
       "0.187642366534344"
      ],
      "text/latex": [
       "0.187642366534344"
      ],
      "text/markdown": [
       "0.187642366534344"
      ],
      "text/plain": [
       "[1] 0.1876424"
      ]
     },
     "metadata": {},
     "output_type": "display_data"
    }
   ],
   "source": [
    "# load the data set\n",
    "data(CASchools)   \n",
    "\n",
    "# define variables\n",
    "CASchools$STR <- CASchools$students/CASchools$teachers       \n",
    "CASchools$score <- (CASchools$read + CASchools$math)/2\n",
    "\n",
    "# compute correlations\n",
    "cor(CASchools$STR, CASchools$score)\n",
    "#> [1] -0.2263627\n",
    "cor(CASchools$STR, CASchools$english)\n",
    "#> [1] 0.1876424"
   ]
  },
  {
   "cell_type": "code",
   "execution_count": 22,
   "metadata": {
    "ExecuteTime": {
     "end_time": "2020-10-12T06:49:44.421517Z",
     "start_time": "2020-10-12T06:49:44.377Z"
    }
   },
   "outputs": [
    {
     "data": {
      "text/plain": [
       "\n",
       "Call:\n",
       "lm(formula = score ~ STR, data = CASchools)\n",
       "\n",
       "Residuals:\n",
       "    Min      1Q  Median      3Q     Max \n",
       "-47.727 -14.251   0.483  12.822  48.540 \n",
       "\n",
       "Coefficients:\n",
       "            Estimate Std. Error t value Pr(>|t|)    \n",
       "(Intercept) 698.9329     9.4675  73.825  < 2e-16 ***\n",
       "STR          -2.2798     0.4798  -4.751 2.78e-06 ***\n",
       "---\n",
       "Signif. codes:  0 ‘***’ 0.001 ‘**’ 0.01 ‘*’ 0.05 ‘.’ 0.1 ‘ ’ 1\n",
       "\n",
       "Residual standard error: 18.58 on 418 degrees of freedom\n",
       "Multiple R-squared:  0.05124,\tAdjusted R-squared:  0.04897 \n",
       "F-statistic: 22.58 on 1 and 418 DF,  p-value: 2.783e-06\n"
      ]
     },
     "metadata": {},
     "output_type": "display_data"
    },
    {
     "data": {
      "text/plain": [
       "\n",
       "Call:\n",
       "lm(formula = score ~ STR + english, data = CASchools)\n",
       "\n",
       "Residuals:\n",
       "    Min      1Q  Median      3Q     Max \n",
       "-48.845 -10.240  -0.308   9.815  43.461 \n",
       "\n",
       "Coefficients:\n",
       "             Estimate Std. Error t value Pr(>|t|)    \n",
       "(Intercept) 686.03224    7.41131  92.566  < 2e-16 ***\n",
       "STR          -1.10130    0.38028  -2.896  0.00398 ** \n",
       "english      -0.64978    0.03934 -16.516  < 2e-16 ***\n",
       "---\n",
       "Signif. codes:  0 ‘***’ 0.001 ‘**’ 0.01 ‘*’ 0.05 ‘.’ 0.1 ‘ ’ 1\n",
       "\n",
       "Residual standard error: 14.46 on 417 degrees of freedom\n",
       "Multiple R-squared:  0.4264,\tAdjusted R-squared:  0.4237 \n",
       "F-statistic:   155 on 2 and 417 DF,  p-value: < 2.2e-16\n"
      ]
     },
     "metadata": {},
     "output_type": "display_data"
    }
   ],
   "source": [
    "# estimate both regression models\n",
    "mod <- lm(score ~ STR, data = CASchools) \n",
    "mult.mod <- lm(score ~ STR + english, data = CASchools)\n",
    "\n",
    "summary(mod)\n",
    "summary(mult.mod)"
   ]
  },
  {
   "cell_type": "code",
   "execution_count": 24,
   "metadata": {
    "ExecuteTime": {
     "end_time": "2020-10-12T06:52:21.072501Z",
     "start_time": "2020-10-12T06:52:21.028Z"
    }
   },
   "outputs": [
    {
     "data": {
      "text/html": [
       "<dl class=dl-horizontal>\n",
       "\t<dt>SER</dt>\n",
       "\t\t<dd>14.4644831258431</dd>\n",
       "\t<dt>R2</dt>\n",
       "\t\t<dd>0.426431455466365</dd>\n",
       "\t<dt>Adj.R2</dt>\n",
       "\t\t<dd>0.42368052719522</dd>\n",
       "</dl>\n"
      ],
      "text/latex": [
       "\\begin{description*}\n",
       "\\item[SER] 14.4644831258431\n",
       "\\item[R2] 0.426431455466365\n",
       "\\item[Adj.R2] 0.42368052719522\n",
       "\\end{description*}\n"
      ],
      "text/markdown": [
       "SER\n",
       ":   14.4644831258431R2\n",
       ":   0.426431455466365Adj.R2\n",
       ":   0.42368052719522\n",
       "\n"
      ],
      "text/plain": [
       "       SER         R2     Adj.R2 \n",
       "14.4644831  0.4264315  0.4236805 "
      ]
     },
     "metadata": {},
     "output_type": "display_data"
    }
   ],
   "source": [
    "# define the components\n",
    "n <- nrow(CASchools)                            # number of observations (rows)\n",
    "k <- 2                                          # number of regressors\n",
    "\n",
    "y_mean <- mean(CASchools$score)                 # mean of avg. test-scores\n",
    "\n",
    "SSR <- sum(residuals(mult.mod)^2)               # sum of squared residuals\n",
    "TSS <- sum((CASchools$score - y_mean )^2)       # total sum of squares\n",
    "ESS <- sum((fitted(mult.mod) - y_mean)^2)       # explained sum of squares\n",
    "\n",
    "# compute the measures\n",
    "\n",
    "SER <- sqrt(1/(n-k-1) * SSR)                    # standard error of the regression\n",
    "Rsq <- 1 - (SSR / TSS)                          # R^2\n",
    "adj_Rsq <- 1 - (n-1)/(n-k-1) * SSR/TSS          # adj. R^2\n",
    "\n",
    "# print the measures to the console\n",
    "c(\"SER\" = SER, \"R2\" = Rsq, \"Adj.R2\" = adj_Rsq)"
   ]
  },
  {
   "cell_type": "code",
   "execution_count": null,
   "metadata": {},
   "outputs": [],
   "source": []
  }
 ],
 "metadata": {
  "hide_input": false,
  "kernelspec": {
   "display_name": "R 3.5.1",
   "language": "R",
   "name": "ir"
  },
  "language_info": {
   "codemirror_mode": "r",
   "file_extension": ".r",
   "mimetype": "text/x-r-source",
   "name": "R",
   "pygments_lexer": "r",
   "version": "3.6.3"
  },
  "latex_envs": {
   "LaTeX_envs_menu_present": true,
   "autoclose": true,
   "autocomplete": true,
   "bibliofile": "biblio.bib",
   "cite_by": "apalike",
   "current_citInitial": 1,
   "eqLabelWithNumbers": true,
   "eqNumInitial": 1,
   "hotkeys": {
    "equation": "Ctrl-E",
    "itemize": "Ctrl-I"
   },
   "labels_anchors": false,
   "latex_user_defs": false,
   "report_style_numbering": false,
   "user_envs_cfg": false
  },
  "toc": {
   "base_numbering": 1,
   "nav_menu": {},
   "number_sections": true,
   "sideBar": true,
   "skip_h1_title": false,
   "title_cell": "Table of Contents",
   "title_sidebar": "Contents",
   "toc_cell": false,
   "toc_position": {},
   "toc_section_display": true,
   "toc_window_display": false
  },
  "varInspector": {
   "cols": {
    "lenName": 16,
    "lenType": 16,
    "lenVar": 40
   },
   "kernels_config": {
    "python": {
     "delete_cmd_postfix": "",
     "delete_cmd_prefix": "del ",
     "library": "var_list.py",
     "varRefreshCmd": "print(var_dic_list())"
    },
    "r": {
     "delete_cmd_postfix": ") ",
     "delete_cmd_prefix": "rm(",
     "library": "var_list.r",
     "varRefreshCmd": "cat(var_dic_list()) "
    }
   },
   "types_to_exclude": [
    "module",
    "function",
    "builtin_function_or_method",
    "instance",
    "_Feature"
   ],
   "window_display": false
  }
 },
 "nbformat": 4,
 "nbformat_minor": 2
}
