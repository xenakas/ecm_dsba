{
 "cells": [
  {
   "cell_type": "code",
   "execution_count": 1,
   "metadata": {
    "ExecuteTime": {
     "end_time": "2020-10-12T08:53:33.619465Z",
     "start_time": "2020-10-12T08:53:32.954Z"
    }
   },
   "outputs": [
    {
     "name": "stderr",
     "output_type": "stream",
     "text": [
      "── \u001b[1mAttaching packages\u001b[22m ─────────────────────────────────────── tidyverse 1.3.0 ──\n",
      "\u001b[32m✔\u001b[39m \u001b[34mggplot2\u001b[39m 3.2.1     \u001b[32m✔\u001b[39m \u001b[34mpurrr  \u001b[39m 0.3.3\n",
      "\u001b[32m✔\u001b[39m \u001b[34mtibble \u001b[39m 3.0.1     \u001b[32m✔\u001b[39m \u001b[34mdplyr  \u001b[39m 0.8.3\n",
      "\u001b[32m✔\u001b[39m \u001b[34mtidyr  \u001b[39m 1.0.0     \u001b[32m✔\u001b[39m \u001b[34mstringr\u001b[39m 1.4.0\n",
      "\u001b[32m✔\u001b[39m \u001b[34mreadr  \u001b[39m 1.3.1     \u001b[32m✔\u001b[39m \u001b[34mforcats\u001b[39m 0.4.0\n",
      "── \u001b[1mConflicts\u001b[22m ────────────────────────────────────────── tidyverse_conflicts() ──\n",
      "\u001b[31m✖\u001b[39m \u001b[34mdplyr\u001b[39m::\u001b[32mfilter()\u001b[39m  masks \u001b[34mstats\u001b[39m::filter()\n",
      "\u001b[31m✖\u001b[39m \u001b[34mpurrr\u001b[39m::\u001b[32mflatten()\u001b[39m masks \u001b[34mjsonlite\u001b[39m::flatten()\n",
      "\u001b[31m✖\u001b[39m \u001b[34mdplyr\u001b[39m::\u001b[32mlag()\u001b[39m     masks \u001b[34mstats\u001b[39m::lag()\n"
     ]
    }
   ],
   "source": [
    "library(\"tidyverse\")"
   ]
  },
  {
   "cell_type": "code",
   "execution_count": 2,
   "metadata": {
    "ExecuteTime": {
     "end_time": "2020-10-12T08:53:42.963523Z",
     "start_time": "2020-10-12T08:53:42.128Z"
    }
   },
   "outputs": [
    {
     "name": "stderr",
     "output_type": "stream",
     "text": [
      "Loading required package: lattice\n",
      "\n",
      "Attaching package: ‘caret’\n",
      "\n",
      "The following object is masked from ‘package:purrr’:\n",
      "\n",
      "    lift\n",
      "\n"
     ]
    }
   ],
   "source": [
    "library(\"caret\")"
   ]
  },
  {
   "cell_type": "code",
   "execution_count": 3,
   "metadata": {
    "ExecuteTime": {
     "end_time": "2020-10-12T08:54:22.404475Z",
     "start_time": "2020-10-12T08:54:22.376Z"
    }
   },
   "outputs": [],
   "source": [
    "data(\"Boston\", package=\"MASS\")"
   ]
  },
  {
   "cell_type": "code",
   "execution_count": 12,
   "metadata": {
    "ExecuteTime": {
     "end_time": "2020-10-12T08:58:07.842890Z",
     "start_time": "2020-10-12T08:58:07.791Z"
    }
   },
   "outputs": [],
   "source": [
    "?MASS::Boston"
   ]
  },
  {
   "cell_type": "code",
   "execution_count": 6,
   "metadata": {
    "ExecuteTime": {
     "end_time": "2020-10-12T08:55:05.007299Z",
     "start_time": "2020-10-12T08:55:04.982Z"
    }
   },
   "outputs": [
    {
     "data": {
      "text/html": [
       "<table>\n",
       "<caption>A data.frame: 6 × 14</caption>\n",
       "<thead>\n",
       "\t<tr><th scope=col>crim</th><th scope=col>zn</th><th scope=col>indus</th><th scope=col>chas</th><th scope=col>nox</th><th scope=col>rm</th><th scope=col>age</th><th scope=col>dis</th><th scope=col>rad</th><th scope=col>tax</th><th scope=col>ptratio</th><th scope=col>black</th><th scope=col>lstat</th><th scope=col>medv</th></tr>\n",
       "\t<tr><th scope=col>&lt;dbl&gt;</th><th scope=col>&lt;dbl&gt;</th><th scope=col>&lt;dbl&gt;</th><th scope=col>&lt;int&gt;</th><th scope=col>&lt;dbl&gt;</th><th scope=col>&lt;dbl&gt;</th><th scope=col>&lt;dbl&gt;</th><th scope=col>&lt;dbl&gt;</th><th scope=col>&lt;int&gt;</th><th scope=col>&lt;dbl&gt;</th><th scope=col>&lt;dbl&gt;</th><th scope=col>&lt;dbl&gt;</th><th scope=col>&lt;dbl&gt;</th><th scope=col>&lt;dbl&gt;</th></tr>\n",
       "</thead>\n",
       "<tbody>\n",
       "\t<tr><td>0.00632</td><td>18</td><td>2.31</td><td>0</td><td>0.538</td><td>6.575</td><td>65.2</td><td>4.0900</td><td>1</td><td>296</td><td>15.3</td><td>396.90</td><td>4.98</td><td>24.0</td></tr>\n",
       "\t<tr><td>0.02731</td><td> 0</td><td>7.07</td><td>0</td><td>0.469</td><td>6.421</td><td>78.9</td><td>4.9671</td><td>2</td><td>242</td><td>17.8</td><td>396.90</td><td>9.14</td><td>21.6</td></tr>\n",
       "\t<tr><td>0.02729</td><td> 0</td><td>7.07</td><td>0</td><td>0.469</td><td>7.185</td><td>61.1</td><td>4.9671</td><td>2</td><td>242</td><td>17.8</td><td>392.83</td><td>4.03</td><td>34.7</td></tr>\n",
       "\t<tr><td>0.03237</td><td> 0</td><td>2.18</td><td>0</td><td>0.458</td><td>6.998</td><td>45.8</td><td>6.0622</td><td>3</td><td>222</td><td>18.7</td><td>394.63</td><td>2.94</td><td>33.4</td></tr>\n",
       "\t<tr><td>0.06905</td><td> 0</td><td>2.18</td><td>0</td><td>0.458</td><td>7.147</td><td>54.2</td><td>6.0622</td><td>3</td><td>222</td><td>18.7</td><td>396.90</td><td>5.33</td><td>36.2</td></tr>\n",
       "\t<tr><td>0.02985</td><td> 0</td><td>2.18</td><td>0</td><td>0.458</td><td>6.430</td><td>58.7</td><td>6.0622</td><td>3</td><td>222</td><td>18.7</td><td>394.12</td><td>5.21</td><td>28.7</td></tr>\n",
       "</tbody>\n",
       "</table>\n"
      ],
      "text/latex": [
       "A data.frame: 6 × 14\n",
       "\\begin{tabular}{r|llllllllllllll}\n",
       " crim & zn & indus & chas & nox & rm & age & dis & rad & tax & ptratio & black & lstat & medv\\\\\n",
       " <dbl> & <dbl> & <dbl> & <int> & <dbl> & <dbl> & <dbl> & <dbl> & <int> & <dbl> & <dbl> & <dbl> & <dbl> & <dbl>\\\\\n",
       "\\hline\n",
       "\t 0.00632 & 18 & 2.31 & 0 & 0.538 & 6.575 & 65.2 & 4.0900 & 1 & 296 & 15.3 & 396.90 & 4.98 & 24.0\\\\\n",
       "\t 0.02731 &  0 & 7.07 & 0 & 0.469 & 6.421 & 78.9 & 4.9671 & 2 & 242 & 17.8 & 396.90 & 9.14 & 21.6\\\\\n",
       "\t 0.02729 &  0 & 7.07 & 0 & 0.469 & 7.185 & 61.1 & 4.9671 & 2 & 242 & 17.8 & 392.83 & 4.03 & 34.7\\\\\n",
       "\t 0.03237 &  0 & 2.18 & 0 & 0.458 & 6.998 & 45.8 & 6.0622 & 3 & 222 & 18.7 & 394.63 & 2.94 & 33.4\\\\\n",
       "\t 0.06905 &  0 & 2.18 & 0 & 0.458 & 7.147 & 54.2 & 6.0622 & 3 & 222 & 18.7 & 396.90 & 5.33 & 36.2\\\\\n",
       "\t 0.02985 &  0 & 2.18 & 0 & 0.458 & 6.430 & 58.7 & 6.0622 & 3 & 222 & 18.7 & 394.12 & 5.21 & 28.7\\\\\n",
       "\\end{tabular}\n"
      ],
      "text/markdown": [
       "\n",
       "A data.frame: 6 × 14\n",
       "\n",
       "| crim &lt;dbl&gt; | zn &lt;dbl&gt; | indus &lt;dbl&gt; | chas &lt;int&gt; | nox &lt;dbl&gt; | rm &lt;dbl&gt; | age &lt;dbl&gt; | dis &lt;dbl&gt; | rad &lt;int&gt; | tax &lt;dbl&gt; | ptratio &lt;dbl&gt; | black &lt;dbl&gt; | lstat &lt;dbl&gt; | medv &lt;dbl&gt; |\n",
       "|---|---|---|---|---|---|---|---|---|---|---|---|---|---|\n",
       "| 0.00632 | 18 | 2.31 | 0 | 0.538 | 6.575 | 65.2 | 4.0900 | 1 | 296 | 15.3 | 396.90 | 4.98 | 24.0 |\n",
       "| 0.02731 |  0 | 7.07 | 0 | 0.469 | 6.421 | 78.9 | 4.9671 | 2 | 242 | 17.8 | 396.90 | 9.14 | 21.6 |\n",
       "| 0.02729 |  0 | 7.07 | 0 | 0.469 | 7.185 | 61.1 | 4.9671 | 2 | 242 | 17.8 | 392.83 | 4.03 | 34.7 |\n",
       "| 0.03237 |  0 | 2.18 | 0 | 0.458 | 6.998 | 45.8 | 6.0622 | 3 | 222 | 18.7 | 394.63 | 2.94 | 33.4 |\n",
       "| 0.06905 |  0 | 2.18 | 0 | 0.458 | 7.147 | 54.2 | 6.0622 | 3 | 222 | 18.7 | 396.90 | 5.33 | 36.2 |\n",
       "| 0.02985 |  0 | 2.18 | 0 | 0.458 | 6.430 | 58.7 | 6.0622 | 3 | 222 | 18.7 | 394.12 | 5.21 | 28.7 |\n",
       "\n"
      ],
      "text/plain": [
       "  crim    zn indus chas nox   rm    age  dis    rad tax ptratio black  lstat\n",
       "1 0.00632 18 2.31  0    0.538 6.575 65.2 4.0900 1   296 15.3    396.90 4.98 \n",
       "2 0.02731  0 7.07  0    0.469 6.421 78.9 4.9671 2   242 17.8    396.90 9.14 \n",
       "3 0.02729  0 7.07  0    0.469 7.185 61.1 4.9671 2   242 17.8    392.83 4.03 \n",
       "4 0.03237  0 2.18  0    0.458 6.998 45.8 6.0622 3   222 18.7    394.63 2.94 \n",
       "5 0.06905  0 2.18  0    0.458 7.147 54.2 6.0622 3   222 18.7    396.90 5.33 \n",
       "6 0.02985  0 2.18  0    0.458 6.430 58.7 6.0622 3   222 18.7    394.12 5.21 \n",
       "  medv\n",
       "1 24.0\n",
       "2 21.6\n",
       "3 34.7\n",
       "4 33.4\n",
       "5 36.2\n",
       "6 28.7"
      ]
     },
     "metadata": {},
     "output_type": "display_data"
    }
   ],
   "source": [
    "head(Boston)"
   ]
  },
  {
   "cell_type": "code",
   "execution_count": 8,
   "metadata": {
    "ExecuteTime": {
     "end_time": "2020-10-12T08:56:24.531558Z",
     "start_time": "2020-10-12T08:56:24.497Z"
    }
   },
   "outputs": [],
   "source": [
    "model1 <- lm(medv~., data=Boston)"
   ]
  },
  {
   "cell_type": "code",
   "execution_count": 9,
   "metadata": {
    "ExecuteTime": {
     "end_time": "2020-10-12T08:56:35.590896Z",
     "start_time": "2020-10-12T08:56:35.549Z"
    },
    "scrolled": false
   },
   "outputs": [
    {
     "data": {
      "text/plain": [
       "\n",
       "Call:\n",
       "lm(formula = medv ~ ., data = Boston)\n",
       "\n",
       "Residuals:\n",
       "    Min      1Q  Median      3Q     Max \n",
       "-15.595  -2.730  -0.518   1.777  26.199 \n",
       "\n",
       "Coefficients:\n",
       "              Estimate Std. Error t value Pr(>|t|)    \n",
       "(Intercept)  3.646e+01  5.103e+00   7.144 3.28e-12 ***\n",
       "crim        -1.080e-01  3.286e-02  -3.287 0.001087 ** \n",
       "zn           4.642e-02  1.373e-02   3.382 0.000778 ***\n",
       "indus        2.056e-02  6.150e-02   0.334 0.738288    \n",
       "chas         2.687e+00  8.616e-01   3.118 0.001925 ** \n",
       "nox         -1.777e+01  3.820e+00  -4.651 4.25e-06 ***\n",
       "rm           3.810e+00  4.179e-01   9.116  < 2e-16 ***\n",
       "age          6.922e-04  1.321e-02   0.052 0.958229    \n",
       "dis         -1.476e+00  1.995e-01  -7.398 6.01e-13 ***\n",
       "rad          3.060e-01  6.635e-02   4.613 5.07e-06 ***\n",
       "tax         -1.233e-02  3.760e-03  -3.280 0.001112 ** \n",
       "ptratio     -9.527e-01  1.308e-01  -7.283 1.31e-12 ***\n",
       "black        9.312e-03  2.686e-03   3.467 0.000573 ***\n",
       "lstat       -5.248e-01  5.072e-02 -10.347  < 2e-16 ***\n",
       "---\n",
       "Signif. codes:  0 ‘***’ 0.001 ‘**’ 0.01 ‘*’ 0.05 ‘.’ 0.1 ‘ ’ 1\n",
       "\n",
       "Residual standard error: 4.745 on 492 degrees of freedom\n",
       "Multiple R-squared:  0.7406,\tAdjusted R-squared:  0.7338 \n",
       "F-statistic: 108.1 on 13 and 492 DF,  p-value: < 2.2e-16\n"
      ]
     },
     "metadata": {},
     "output_type": "display_data"
    }
   ],
   "source": [
    "summary(model1)"
   ]
  },
  {
   "cell_type": "code",
   "execution_count": 17,
   "metadata": {
    "ExecuteTime": {
     "end_time": "2020-10-12T09:13:35.192754Z",
     "start_time": "2020-10-12T09:13:35.143Z"
    }
   },
   "outputs": [
    {
     "name": "stderr",
     "output_type": "stream",
     "text": [
      "Loading required package: carData\n",
      "\n",
      "Attaching package: ‘car’\n",
      "\n",
      "The following object is masked from ‘package:dplyr’:\n",
      "\n",
      "    recode\n",
      "\n",
      "The following object is masked from ‘package:purrr’:\n",
      "\n",
      "    some\n",
      "\n"
     ]
    }
   ],
   "source": [
    "library(\"car\")"
   ]
  },
  {
   "cell_type": "code",
   "execution_count": 18,
   "metadata": {
    "ExecuteTime": {
     "end_time": "2020-10-12T09:13:47.436452Z",
     "start_time": "2020-10-12T09:13:47.417Z"
    }
   },
   "outputs": [
    {
     "data": {
      "text/html": [
       "<dl class=dl-horizontal>\n",
       "\t<dt>crim</dt>\n",
       "\t\t<dd>1.79219154743324</dd>\n",
       "\t<dt>zn</dt>\n",
       "\t\t<dd>2.29875817874944</dd>\n",
       "\t<dt>indus</dt>\n",
       "\t\t<dd>3.99159641834602</dd>\n",
       "\t<dt>chas</dt>\n",
       "\t\t<dd>1.07399532755379</dd>\n",
       "\t<dt>nox</dt>\n",
       "\t\t<dd>4.39371984757748</dd>\n",
       "\t<dt>rm</dt>\n",
       "\t\t<dd>1.93374443578326</dd>\n",
       "\t<dt>age</dt>\n",
       "\t\t<dd>3.10082551281533</dd>\n",
       "\t<dt>dis</dt>\n",
       "\t\t<dd>3.95594490637272</dd>\n",
       "\t<dt>rad</dt>\n",
       "\t\t<dd>7.48449633527445</dd>\n",
       "\t<dt>tax</dt>\n",
       "\t\t<dd>9.00855394759706</dd>\n",
       "\t<dt>ptratio</dt>\n",
       "\t\t<dd>1.79908404924889</dd>\n",
       "\t<dt>black</dt>\n",
       "\t\t<dd>1.34852107640637</dd>\n",
       "\t<dt>lstat</dt>\n",
       "\t\t<dd>2.94149107809193</dd>\n",
       "</dl>\n"
      ],
      "text/latex": [
       "\\begin{description*}\n",
       "\\item[crim] 1.79219154743324\n",
       "\\item[zn] 2.29875817874944\n",
       "\\item[indus] 3.99159641834602\n",
       "\\item[chas] 1.07399532755379\n",
       "\\item[nox] 4.39371984757748\n",
       "\\item[rm] 1.93374443578326\n",
       "\\item[age] 3.10082551281533\n",
       "\\item[dis] 3.95594490637272\n",
       "\\item[rad] 7.48449633527445\n",
       "\\item[tax] 9.00855394759706\n",
       "\\item[ptratio] 1.79908404924889\n",
       "\\item[black] 1.34852107640637\n",
       "\\item[lstat] 2.94149107809193\n",
       "\\end{description*}\n"
      ],
      "text/markdown": [
       "crim\n",
       ":   1.79219154743324zn\n",
       ":   2.29875817874944indus\n",
       ":   3.99159641834602chas\n",
       ":   1.07399532755379nox\n",
       ":   4.39371984757748rm\n",
       ":   1.93374443578326age\n",
       ":   3.10082551281533dis\n",
       ":   3.95594490637272rad\n",
       ":   7.48449633527445tax\n",
       ":   9.00855394759706ptratio\n",
       ":   1.79908404924889black\n",
       ":   1.34852107640637lstat\n",
       ":   2.94149107809193\n",
       "\n"
      ],
      "text/plain": [
       "    crim       zn    indus     chas      nox       rm      age      dis \n",
       "1.792192 2.298758 3.991596 1.073995 4.393720 1.933744 3.100826 3.955945 \n",
       "     rad      tax  ptratio    black    lstat \n",
       "7.484496 9.008554 1.799084 1.348521 2.941491 "
      ]
     },
     "metadata": {},
     "output_type": "display_data"
    }
   ],
   "source": [
    "vif(model1)"
   ]
  },
  {
   "cell_type": "code",
   "execution_count": 15,
   "metadata": {
    "ExecuteTime": {
     "end_time": "2020-10-12T09:07:59.361852Z",
     "start_time": "2020-10-12T09:07:59.340Z"
    }
   },
   "outputs": [],
   "source": [
    "model1 <- lm(medv~., data=Boston)\n",
    "model2 <- lm(medv~. -tax, data=Boston)"
   ]
  },
  {
   "cell_type": "code",
   "execution_count": 16,
   "metadata": {
    "ExecuteTime": {
     "end_time": "2020-10-12T09:08:09.059437Z",
     "start_time": "2020-10-12T09:08:09.021Z"
    },
    "scrolled": true
   },
   "outputs": [
    {
     "data": {
      "text/plain": [
       "\n",
       "Call:\n",
       "lm(formula = medv ~ ., data = Boston)\n",
       "\n",
       "Residuals:\n",
       "    Min      1Q  Median      3Q     Max \n",
       "-15.595  -2.730  -0.518   1.777  26.199 \n",
       "\n",
       "Coefficients:\n",
       "              Estimate Std. Error t value Pr(>|t|)    \n",
       "(Intercept)  3.646e+01  5.103e+00   7.144 3.28e-12 ***\n",
       "crim        -1.080e-01  3.286e-02  -3.287 0.001087 ** \n",
       "zn           4.642e-02  1.373e-02   3.382 0.000778 ***\n",
       "indus        2.056e-02  6.150e-02   0.334 0.738288    \n",
       "chas         2.687e+00  8.616e-01   3.118 0.001925 ** \n",
       "nox         -1.777e+01  3.820e+00  -4.651 4.25e-06 ***\n",
       "rm           3.810e+00  4.179e-01   9.116  < 2e-16 ***\n",
       "age          6.922e-04  1.321e-02   0.052 0.958229    \n",
       "dis         -1.476e+00  1.995e-01  -7.398 6.01e-13 ***\n",
       "rad          3.060e-01  6.635e-02   4.613 5.07e-06 ***\n",
       "tax         -1.233e-02  3.760e-03  -3.280 0.001112 ** \n",
       "ptratio     -9.527e-01  1.308e-01  -7.283 1.31e-12 ***\n",
       "black        9.312e-03  2.686e-03   3.467 0.000573 ***\n",
       "lstat       -5.248e-01  5.072e-02 -10.347  < 2e-16 ***\n",
       "---\n",
       "Signif. codes:  0 ‘***’ 0.001 ‘**’ 0.01 ‘*’ 0.05 ‘.’ 0.1 ‘ ’ 1\n",
       "\n",
       "Residual standard error: 4.745 on 492 degrees of freedom\n",
       "Multiple R-squared:  0.7406,\tAdjusted R-squared:  0.7338 \n",
       "F-statistic: 108.1 on 13 and 492 DF,  p-value: < 2.2e-16\n"
      ]
     },
     "metadata": {},
     "output_type": "display_data"
    },
    {
     "data": {
      "text/plain": [
       "\n",
       "Call:\n",
       "lm(formula = medv ~ . - tax, data = Boston)\n",
       "\n",
       "Residuals:\n",
       "     Min       1Q   Median       3Q      Max \n",
       "-16.1449  -2.9143  -0.5661   1.7438  26.3113 \n",
       "\n",
       "Coefficients:\n",
       "              Estimate Std. Error t value Pr(>|t|)    \n",
       "(Intercept)  3.463e+01  5.123e+00   6.760 3.92e-11 ***\n",
       "crim        -1.067e-01  3.319e-02  -3.216 0.001384 ** \n",
       "zn           3.637e-02  1.351e-02   2.692 0.007354 ** \n",
       "indus       -6.778e-02  5.583e-02  -1.214 0.225317    \n",
       "chas         3.029e+00  8.637e-01   3.507 0.000494 ***\n",
       "nox         -1.870e+01  3.847e+00  -4.862 1.57e-06 ***\n",
       "rm           3.912e+00  4.209e-01   9.294  < 2e-16 ***\n",
       "age         -6.054e-04  1.333e-02  -0.045 0.963804    \n",
       "dis         -1.488e+00  2.014e-01  -7.390 6.31e-13 ***\n",
       "rad          1.346e-01  4.125e-02   3.262 0.001182 ** \n",
       "ptratio     -9.851e-01  1.317e-01  -7.478 3.48e-13 ***\n",
       "black        9.546e-03  2.711e-03   3.521 0.000470 ***\n",
       "lstat       -5.222e-01  5.121e-02 -10.198  < 2e-16 ***\n",
       "---\n",
       "Signif. codes:  0 ‘***’ 0.001 ‘**’ 0.01 ‘*’ 0.05 ‘.’ 0.1 ‘ ’ 1\n",
       "\n",
       "Residual standard error: 4.792 on 493 degrees of freedom\n",
       "Multiple R-squared:  0.735,\tAdjusted R-squared:  0.7285 \n",
       "F-statistic: 113.9 on 12 and 493 DF,  p-value: < 2.2e-16\n"
      ]
     },
     "metadata": {},
     "output_type": "display_data"
    }
   ],
   "source": [
    "summary(model1)\n",
    "summary(model2)"
   ]
  },
  {
   "cell_type": "code",
   "execution_count": 19,
   "metadata": {
    "ExecuteTime": {
     "end_time": "2020-10-12T09:16:24.882092Z",
     "start_time": "2020-10-12T09:16:24.784Z"
    }
   },
   "outputs": [
    {
     "name": "stderr",
     "output_type": "stream",
     "text": [
      "Loading required package: lmtest\n",
      "Loading required package: zoo\n",
      "\n",
      "Attaching package: ‘zoo’\n",
      "\n",
      "The following objects are masked from ‘package:base’:\n",
      "\n",
      "    as.Date, as.Date.numeric\n",
      "\n",
      "Loading required package: sandwich\n",
      "Loading required package: survival\n",
      "\n",
      "Attaching package: ‘survival’\n",
      "\n",
      "The following object is masked from ‘package:caret’:\n",
      "\n",
      "    cluster\n",
      "\n"
     ]
    }
   ],
   "source": [
    "library(AER)"
   ]
  },
  {
   "cell_type": "code",
   "execution_count": 20,
   "metadata": {
    "ExecuteTime": {
     "end_time": "2020-10-12T09:16:35.877233Z",
     "start_time": "2020-10-12T09:16:35.864Z"
    }
   },
   "outputs": [],
   "source": [
    "data(CASchools)   "
   ]
  },
  {
   "cell_type": "code",
   "execution_count": 22,
   "metadata": {
    "ExecuteTime": {
     "end_time": "2020-10-12T09:17:02.535841Z",
     "start_time": "2020-10-12T09:17:02.384Z"
    }
   },
   "outputs": [],
   "source": [
    "?CASchools"
   ]
  },
  {
   "cell_type": "code",
   "execution_count": 23,
   "metadata": {
    "ExecuteTime": {
     "end_time": "2020-10-12T09:18:01.663572Z",
     "start_time": "2020-10-12T09:18:01.646Z"
    }
   },
   "outputs": [],
   "source": [
    "data(\"CASchools\", package=\"AER\")"
   ]
  },
  {
   "cell_type": "code",
   "execution_count": 21,
   "metadata": {
    "ExecuteTime": {
     "end_time": "2020-10-12T09:16:49.654942Z",
     "start_time": "2020-10-12T09:16:49.638Z"
    }
   },
   "outputs": [
    {
     "data": {
      "text/html": [
       "<table>\n",
       "<caption>A data.frame: 6 × 14</caption>\n",
       "<thead>\n",
       "\t<tr><th scope=col>district</th><th scope=col>school</th><th scope=col>county</th><th scope=col>grades</th><th scope=col>students</th><th scope=col>teachers</th><th scope=col>calworks</th><th scope=col>lunch</th><th scope=col>computer</th><th scope=col>expenditure</th><th scope=col>income</th><th scope=col>english</th><th scope=col>read</th><th scope=col>math</th></tr>\n",
       "\t<tr><th scope=col>&lt;chr&gt;</th><th scope=col>&lt;chr&gt;</th><th scope=col>&lt;fct&gt;</th><th scope=col>&lt;fct&gt;</th><th scope=col>&lt;dbl&gt;</th><th scope=col>&lt;dbl&gt;</th><th scope=col>&lt;dbl&gt;</th><th scope=col>&lt;dbl&gt;</th><th scope=col>&lt;dbl&gt;</th><th scope=col>&lt;dbl&gt;</th><th scope=col>&lt;dbl&gt;</th><th scope=col>&lt;dbl&gt;</th><th scope=col>&lt;dbl&gt;</th><th scope=col>&lt;dbl&gt;</th></tr>\n",
       "</thead>\n",
       "<tbody>\n",
       "\t<tr><td>75119</td><td>Sunol Glen Unified             </td><td>Alameda</td><td>KK-08</td><td> 195</td><td>10.90</td><td> 0.5102</td><td> 2.0408</td><td> 67</td><td>6384.911</td><td>22.690001</td><td> 0.000000</td><td>691.6</td><td>690.0</td></tr>\n",
       "\t<tr><td>61499</td><td>Manzanita Elementary           </td><td>Butte  </td><td>KK-08</td><td> 240</td><td>11.15</td><td>15.4167</td><td>47.9167</td><td>101</td><td>5099.381</td><td> 9.824000</td><td> 4.583333</td><td>660.5</td><td>661.9</td></tr>\n",
       "\t<tr><td>61549</td><td>Thermalito Union Elementary    </td><td>Butte  </td><td>KK-08</td><td>1550</td><td>82.90</td><td>55.0323</td><td>76.3226</td><td>169</td><td>5501.955</td><td> 8.978000</td><td>30.000002</td><td>636.3</td><td>650.9</td></tr>\n",
       "\t<tr><td>61457</td><td>Golden Feather Union Elementary</td><td>Butte  </td><td>KK-08</td><td> 243</td><td>14.00</td><td>36.4754</td><td>77.0492</td><td> 85</td><td>7101.831</td><td> 8.978000</td><td> 0.000000</td><td>651.9</td><td>643.5</td></tr>\n",
       "\t<tr><td>61523</td><td>Palermo Union Elementary       </td><td>Butte  </td><td>KK-08</td><td>1335</td><td>71.50</td><td>33.1086</td><td>78.4270</td><td>171</td><td>5235.988</td><td> 9.080333</td><td>13.857677</td><td>641.8</td><td>639.9</td></tr>\n",
       "\t<tr><td>62042</td><td>Burrel Union Elementary        </td><td>Fresno </td><td>KK-08</td><td> 137</td><td> 6.40</td><td>12.3188</td><td>86.9565</td><td> 25</td><td>5580.147</td><td>10.415000</td><td>12.408759</td><td>605.7</td><td>605.4</td></tr>\n",
       "</tbody>\n",
       "</table>\n"
      ],
      "text/latex": [
       "A data.frame: 6 × 14\n",
       "\\begin{tabular}{r|llllllllllllll}\n",
       " district & school & county & grades & students & teachers & calworks & lunch & computer & expenditure & income & english & read & math\\\\\n",
       " <chr> & <chr> & <fct> & <fct> & <dbl> & <dbl> & <dbl> & <dbl> & <dbl> & <dbl> & <dbl> & <dbl> & <dbl> & <dbl>\\\\\n",
       "\\hline\n",
       "\t 75119 & Sunol Glen Unified              & Alameda & KK-08 &  195 & 10.90 &  0.5102 &  2.0408 &  67 & 6384.911 & 22.690001 &  0.000000 & 691.6 & 690.0\\\\\n",
       "\t 61499 & Manzanita Elementary            & Butte   & KK-08 &  240 & 11.15 & 15.4167 & 47.9167 & 101 & 5099.381 &  9.824000 &  4.583333 & 660.5 & 661.9\\\\\n",
       "\t 61549 & Thermalito Union Elementary     & Butte   & KK-08 & 1550 & 82.90 & 55.0323 & 76.3226 & 169 & 5501.955 &  8.978000 & 30.000002 & 636.3 & 650.9\\\\\n",
       "\t 61457 & Golden Feather Union Elementary & Butte   & KK-08 &  243 & 14.00 & 36.4754 & 77.0492 &  85 & 7101.831 &  8.978000 &  0.000000 & 651.9 & 643.5\\\\\n",
       "\t 61523 & Palermo Union Elementary        & Butte   & KK-08 & 1335 & 71.50 & 33.1086 & 78.4270 & 171 & 5235.988 &  9.080333 & 13.857677 & 641.8 & 639.9\\\\\n",
       "\t 62042 & Burrel Union Elementary         & Fresno  & KK-08 &  137 &  6.40 & 12.3188 & 86.9565 &  25 & 5580.147 & 10.415000 & 12.408759 & 605.7 & 605.4\\\\\n",
       "\\end{tabular}\n"
      ],
      "text/markdown": [
       "\n",
       "A data.frame: 6 × 14\n",
       "\n",
       "| district &lt;chr&gt; | school &lt;chr&gt; | county &lt;fct&gt; | grades &lt;fct&gt; | students &lt;dbl&gt; | teachers &lt;dbl&gt; | calworks &lt;dbl&gt; | lunch &lt;dbl&gt; | computer &lt;dbl&gt; | expenditure &lt;dbl&gt; | income &lt;dbl&gt; | english &lt;dbl&gt; | read &lt;dbl&gt; | math &lt;dbl&gt; |\n",
       "|---|---|---|---|---|---|---|---|---|---|---|---|---|---|\n",
       "| 75119 | Sunol Glen Unified              | Alameda | KK-08 |  195 | 10.90 |  0.5102 |  2.0408 |  67 | 6384.911 | 22.690001 |  0.000000 | 691.6 | 690.0 |\n",
       "| 61499 | Manzanita Elementary            | Butte   | KK-08 |  240 | 11.15 | 15.4167 | 47.9167 | 101 | 5099.381 |  9.824000 |  4.583333 | 660.5 | 661.9 |\n",
       "| 61549 | Thermalito Union Elementary     | Butte   | KK-08 | 1550 | 82.90 | 55.0323 | 76.3226 | 169 | 5501.955 |  8.978000 | 30.000002 | 636.3 | 650.9 |\n",
       "| 61457 | Golden Feather Union Elementary | Butte   | KK-08 |  243 | 14.00 | 36.4754 | 77.0492 |  85 | 7101.831 |  8.978000 |  0.000000 | 651.9 | 643.5 |\n",
       "| 61523 | Palermo Union Elementary        | Butte   | KK-08 | 1335 | 71.50 | 33.1086 | 78.4270 | 171 | 5235.988 |  9.080333 | 13.857677 | 641.8 | 639.9 |\n",
       "| 62042 | Burrel Union Elementary         | Fresno  | KK-08 |  137 |  6.40 | 12.3188 | 86.9565 |  25 | 5580.147 | 10.415000 | 12.408759 | 605.7 | 605.4 |\n",
       "\n"
      ],
      "text/plain": [
       "  district school                          county  grades students teachers\n",
       "1 75119    Sunol Glen Unified              Alameda KK-08   195     10.90   \n",
       "2 61499    Manzanita Elementary            Butte   KK-08   240     11.15   \n",
       "3 61549    Thermalito Union Elementary     Butte   KK-08  1550     82.90   \n",
       "4 61457    Golden Feather Union Elementary Butte   KK-08   243     14.00   \n",
       "5 61523    Palermo Union Elementary        Butte   KK-08  1335     71.50   \n",
       "6 62042    Burrel Union Elementary         Fresno  KK-08   137      6.40   \n",
       "  calworks lunch   computer expenditure income    english   read  math \n",
       "1  0.5102   2.0408  67      6384.911    22.690001  0.000000 691.6 690.0\n",
       "2 15.4167  47.9167 101      5099.381     9.824000  4.583333 660.5 661.9\n",
       "3 55.0323  76.3226 169      5501.955     8.978000 30.000002 636.3 650.9\n",
       "4 36.4754  77.0492  85      7101.831     8.978000  0.000000 651.9 643.5\n",
       "5 33.1086  78.4270 171      5235.988     9.080333 13.857677 641.8 639.9\n",
       "6 12.3188  86.9565  25      5580.147    10.415000 12.408759 605.7 605.4"
      ]
     },
     "metadata": {},
     "output_type": "display_data"
    }
   ],
   "source": [
    "head(CASchools)"
   ]
  },
  {
   "cell_type": "code",
   "execution_count": 25,
   "metadata": {
    "ExecuteTime": {
     "end_time": "2020-10-12T09:18:46.270866Z",
     "start_time": "2020-10-12T09:18:46.260Z"
    }
   },
   "outputs": [],
   "source": [
    "CASchools$STR <- CASchools$students/CASchools$teachers       \n",
    "CASchools$score <- (CASchools$read + CASchools$math)/2"
   ]
  },
  {
   "cell_type": "code",
   "execution_count": 26,
   "metadata": {
    "ExecuteTime": {
     "end_time": "2020-10-12T09:18:56.577197Z",
     "start_time": "2020-10-12T09:18:56.554Z"
    }
   },
   "outputs": [
    {
     "data": {
      "text/html": [
       "-0.226362745503256"
      ],
      "text/latex": [
       "-0.226362745503256"
      ],
      "text/markdown": [
       "-0.226362745503256"
      ],
      "text/plain": [
       "[1] -0.2263627"
      ]
     },
     "metadata": {},
     "output_type": "display_data"
    },
    {
     "data": {
      "text/html": [
       "0.187642366534344"
      ],
      "text/latex": [
       "0.187642366534344"
      ],
      "text/markdown": [
       "0.187642366534344"
      ],
      "text/plain": [
       "[1] 0.1876424"
      ]
     },
     "metadata": {},
     "output_type": "display_data"
    }
   ],
   "source": [
    "cor(CASchools$STR, CASchools$score)\n",
    "cor(CASchools$STR, CASchools$english)"
   ]
  },
  {
   "cell_type": "code",
   "execution_count": 27,
   "metadata": {
    "ExecuteTime": {
     "end_time": "2020-10-12T09:19:23.312728Z",
     "start_time": "2020-10-12T09:19:23.301Z"
    }
   },
   "outputs": [],
   "source": [
    "mod <- lm(score ~ STR, data = CASchools) \n",
    "mult.mod <- lm(score ~ STR + english, data = CASchools)"
   ]
  },
  {
   "cell_type": "code",
   "execution_count": 28,
   "metadata": {
    "ExecuteTime": {
     "end_time": "2020-10-12T09:19:41.063401Z",
     "start_time": "2020-10-12T09:19:41.025Z"
    }
   },
   "outputs": [
    {
     "data": {
      "text/plain": [
       "\n",
       "Call:\n",
       "lm(formula = score ~ STR, data = CASchools)\n",
       "\n",
       "Residuals:\n",
       "    Min      1Q  Median      3Q     Max \n",
       "-47.727 -14.251   0.483  12.822  48.540 \n",
       "\n",
       "Coefficients:\n",
       "            Estimate Std. Error t value Pr(>|t|)    \n",
       "(Intercept) 698.9329     9.4675  73.825  < 2e-16 ***\n",
       "STR          -2.2798     0.4798  -4.751 2.78e-06 ***\n",
       "---\n",
       "Signif. codes:  0 ‘***’ 0.001 ‘**’ 0.01 ‘*’ 0.05 ‘.’ 0.1 ‘ ’ 1\n",
       "\n",
       "Residual standard error: 18.58 on 418 degrees of freedom\n",
       "Multiple R-squared:  0.05124,\tAdjusted R-squared:  0.04897 \n",
       "F-statistic: 22.58 on 1 and 418 DF,  p-value: 2.783e-06\n"
      ]
     },
     "metadata": {},
     "output_type": "display_data"
    },
    {
     "data": {
      "text/plain": [
       "\n",
       "Call:\n",
       "lm(formula = score ~ STR + english, data = CASchools)\n",
       "\n",
       "Residuals:\n",
       "    Min      1Q  Median      3Q     Max \n",
       "-48.845 -10.240  -0.308   9.815  43.461 \n",
       "\n",
       "Coefficients:\n",
       "             Estimate Std. Error t value Pr(>|t|)    \n",
       "(Intercept) 686.03224    7.41131  92.566  < 2e-16 ***\n",
       "STR          -1.10130    0.38028  -2.896  0.00398 ** \n",
       "english      -0.64978    0.03934 -16.516  < 2e-16 ***\n",
       "---\n",
       "Signif. codes:  0 ‘***’ 0.001 ‘**’ 0.01 ‘*’ 0.05 ‘.’ 0.1 ‘ ’ 1\n",
       "\n",
       "Residual standard error: 14.46 on 417 degrees of freedom\n",
       "Multiple R-squared:  0.4264,\tAdjusted R-squared:  0.4237 \n",
       "F-statistic:   155 on 2 and 417 DF,  p-value: < 2.2e-16\n"
      ]
     },
     "metadata": {},
     "output_type": "display_data"
    }
   ],
   "source": [
    "summary(mod)\n",
    "summary(mult.mod)"
   ]
  }
 ],
 "metadata": {
  "hide_input": false,
  "kernelspec": {
   "display_name": "R 4.0.2",
   "language": "R",
   "name": "ir"
  },
  "language_info": {
   "codemirror_mode": "r",
   "file_extension": ".r",
   "mimetype": "text/x-r-source",
   "name": "R",
   "pygments_lexer": "r",
   "version": "4.0.2"
  },
  "latex_envs": {
   "LaTeX_envs_menu_present": true,
   "autoclose": true,
   "autocomplete": true,
   "bibliofile": "biblio.bib",
   "cite_by": "apalike",
   "current_citInitial": 1,
   "eqLabelWithNumbers": true,
   "eqNumInitial": 1,
   "hotkeys": {
    "equation": "Ctrl-E",
    "itemize": "Ctrl-I"
   },
   "labels_anchors": false,
   "latex_user_defs": false,
   "report_style_numbering": false,
   "user_envs_cfg": false
  },
  "toc": {
   "base_numbering": 1,
   "nav_menu": {},
   "number_sections": true,
   "sideBar": true,
   "skip_h1_title": false,
   "title_cell": "Table of Contents",
   "title_sidebar": "Contents",
   "toc_cell": false,
   "toc_position": {},
   "toc_section_display": true,
   "toc_window_display": false
  },
  "varInspector": {
   "cols": {
    "lenName": 16,
    "lenType": 16,
    "lenVar": 40
   },
   "kernels_config": {
    "python": {
     "delete_cmd_postfix": "",
     "delete_cmd_prefix": "del ",
     "library": "var_list.py",
     "varRefreshCmd": "print(var_dic_list())"
    },
    "r": {
     "delete_cmd_postfix": ") ",
     "delete_cmd_prefix": "rm(",
     "library": "var_list.r",
     "varRefreshCmd": "cat(var_dic_list()) "
    }
   },
   "types_to_exclude": [
    "module",
    "function",
    "builtin_function_or_method",
    "instance",
    "_Feature"
   ],
   "window_display": false
  }
 },
 "nbformat": 4,
 "nbformat_minor": 2
}
