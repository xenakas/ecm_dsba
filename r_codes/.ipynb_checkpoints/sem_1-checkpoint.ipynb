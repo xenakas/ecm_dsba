{
 "cells": [
  {
   "cell_type": "code",
   "execution_count": 3,
   "metadata": {
    "ExecuteTime": {
     "end_time": "2020-10-05T08:21:36.592566Z",
     "start_time": "2020-10-05T08:21:36.559Z"
    }
   },
   "outputs": [
    {
     "data": {
      "text/html": [
       "<ol class=list-inline>\n",
       "\t<li>-0.411133135776111</li>\n",
       "\t<li>0.1167523097004</li>\n",
       "\t<li>-0.63598394558952</li>\n",
       "</ol>\n"
      ],
      "text/latex": [
       "\\begin{enumerate*}\n",
       "\\item -0.411133135776111\n",
       "\\item 0.1167523097004\n",
       "\\item -0.63598394558952\n",
       "\\end{enumerate*}\n"
      ],
      "text/markdown": [
       "1. -0.411133135776111\n",
       "2. 0.1167523097004\n",
       "3. -0.63598394558952\n",
       "\n",
       "\n"
      ],
      "text/plain": [
       "[1] -0.4111331  0.1167523 -0.6359839"
      ]
     },
     "metadata": {},
     "output_type": "display_data"
    }
   ],
   "source": [
    "rnorm(3)"
   ]
  },
  {
   "cell_type": "code",
   "execution_count": 5,
   "metadata": {
    "ExecuteTime": {
     "end_time": "2020-10-05T08:22:04.835755Z",
     "start_time": "2020-10-05T08:22:04.126Z"
    }
   },
   "outputs": [],
   "source": [
    "?rnorm"
   ]
  },
  {
   "cell_type": "code",
   "execution_count": 9,
   "metadata": {
    "ExecuteTime": {
     "end_time": "2020-10-05T08:22:48.710102Z",
     "start_time": "2020-10-05T08:22:48.697Z"
    }
   },
   "outputs": [],
   "source": [
    "x<-3"
   ]
  },
  {
   "cell_type": "code",
   "execution_count": 11,
   "metadata": {
    "ExecuteTime": {
     "end_time": "2020-10-05T08:22:49.405382Z",
     "start_time": "2020-10-05T08:22:49.393Z"
    }
   },
   "outputs": [
    {
     "data": {
      "text/html": [
       "3"
      ],
      "text/latex": [
       "3"
      ],
      "text/markdown": [
       "3"
      ],
      "text/plain": [
       "[1] 3"
      ]
     },
     "metadata": {},
     "output_type": "display_data"
    }
   ],
   "source": [
    "x"
   ]
  },
  {
   "cell_type": "code",
   "execution_count": 12,
   "metadata": {
    "ExecuteTime": {
     "end_time": "2020-10-05T08:22:51.250087Z",
     "start_time": "2020-10-05T08:22:51.219Z"
    }
   },
   "outputs": [],
   "source": [
    "y=5"
   ]
  },
  {
   "cell_type": "code",
   "execution_count": 14,
   "metadata": {
    "ExecuteTime": {
     "end_time": "2020-10-05T08:23:01.408481Z",
     "start_time": "2020-10-05T08:23:01.393Z"
    }
   },
   "outputs": [
    {
     "data": {
      "text/html": [
       "3"
      ],
      "text/latex": [
       "3"
      ],
      "text/markdown": [
       "3"
      ],
      "text/plain": [
       "[1] 3"
      ]
     },
     "metadata": {},
     "output_type": "display_data"
    },
    {
     "data": {
      "text/html": [
       "5"
      ],
      "text/latex": [
       "5"
      ],
      "text/markdown": [
       "5"
      ],
      "text/plain": [
       "[1] 5"
      ]
     },
     "metadata": {},
     "output_type": "display_data"
    }
   ],
   "source": [
    "x\n",
    "y"
   ]
  },
  {
   "cell_type": "code",
   "execution_count": 15,
   "metadata": {
    "ExecuteTime": {
     "end_time": "2020-10-05T08:24:12.001391Z",
     "start_time": "2020-10-05T08:23:53.570Z"
    }
   },
   "outputs": [
    {
     "name": "stderr",
     "output_type": "stream",
     "text": [
      "Installing package into ‘/home/xenakas/R/x86_64-pc-linux-gnu-library/3.6’\n",
      "(as ‘lib’ is unspecified)\n"
     ]
    }
   ],
   "source": [
    "install.packages()"
   ]
  },
  {
   "cell_type": "code",
   "execution_count": 16,
   "metadata": {
    "ExecuteTime": {
     "end_time": "2020-10-05T08:25:59.397438Z",
     "start_time": "2020-10-05T08:25:59.218Z"
    }
   },
   "outputs": [
    {
     "name": "stderr",
     "output_type": "stream",
     "text": [
      "\n",
      "Attaching package: ‘dplyr’\n",
      "\n",
      "The following objects are masked from ‘package:stats’:\n",
      "\n",
      "    filter, lag\n",
      "\n",
      "The following objects are masked from ‘package:base’:\n",
      "\n",
      "    intersect, setdiff, setequal, union\n",
      "\n"
     ]
    }
   ],
   "source": [
    "library(\"dplyr\")"
   ]
  },
  {
   "cell_type": "code",
   "execution_count": 17,
   "metadata": {
    "ExecuteTime": {
     "end_time": "2020-10-05T08:29:25.889236Z",
     "start_time": "2020-10-05T08:29:25.728Z"
    }
   },
   "outputs": [
    {
     "name": "stderr",
     "output_type": "stream",
     "text": [
      "starting httpd help server ... done\n"
     ]
    }
   ],
   "source": [
    "vignette('dplyr')"
   ]
  },
  {
   "cell_type": "code",
   "execution_count": 18,
   "metadata": {
    "ExecuteTime": {
     "end_time": "2020-10-05T08:31:21.409797Z",
     "start_time": "2020-10-05T08:31:21.388Z"
    }
   },
   "outputs": [
    {
     "data": {
      "text/html": [
       "5"
      ],
      "text/latex": [
       "5"
      ],
      "text/markdown": [
       "5"
      ],
      "text/plain": [
       "[1] 5"
      ]
     },
     "metadata": {},
     "output_type": "display_data"
    }
   ],
   "source": [
    "2 + 3"
   ]
  },
  {
   "cell_type": "code",
   "execution_count": 20,
   "metadata": {
    "ExecuteTime": {
     "end_time": "2020-10-05T08:32:46.403076Z",
     "start_time": "2020-10-05T08:32:46.393Z"
    }
   },
   "outputs": [],
   "source": [
    "x <- c(2,4,5)"
   ]
  },
  {
   "cell_type": "code",
   "execution_count": 21,
   "metadata": {
    "ExecuteTime": {
     "end_time": "2020-10-05T08:32:49.002077Z",
     "start_time": "2020-10-05T08:32:48.991Z"
    }
   },
   "outputs": [
    {
     "data": {
      "text/html": [
       "3.66666666666667"
      ],
      "text/latex": [
       "3.66666666666667"
      ],
      "text/markdown": [
       "3.66666666666667"
      ],
      "text/plain": [
       "[1] 3.666667"
      ]
     },
     "metadata": {},
     "output_type": "display_data"
    }
   ],
   "source": [
    "mean(x)"
   ]
  },
  {
   "cell_type": "code",
   "execution_count": 22,
   "metadata": {
    "ExecuteTime": {
     "end_time": "2020-10-05T08:32:57.552472Z",
     "start_time": "2020-10-05T08:32:57.540Z"
    }
   },
   "outputs": [
    {
     "data": {
      "text/html": [
       "11"
      ],
      "text/latex": [
       "11"
      ],
      "text/markdown": [
       "11"
      ],
      "text/plain": [
       "[1] 11"
      ]
     },
     "metadata": {},
     "output_type": "display_data"
    }
   ],
   "source": [
    "sum(x)"
   ]
  },
  {
   "cell_type": "code",
   "execution_count": 24,
   "metadata": {
    "ExecuteTime": {
     "end_time": "2020-10-05T08:33:30.311885Z",
     "start_time": "2020-10-05T08:33:30.294Z"
    }
   },
   "outputs": [
    {
     "data": {
      "text/html": [
       "2.30258509299405"
      ],
      "text/latex": [
       "2.30258509299405"
      ],
      "text/markdown": [
       "2.30258509299405"
      ],
      "text/plain": [
       "[1] 2.302585"
      ]
     },
     "metadata": {},
     "output_type": "display_data"
    },
    {
     "data": {
      "text/html": [
       "1"
      ],
      "text/latex": [
       "1"
      ],
      "text/markdown": [
       "1"
      ],
      "text/plain": [
       "[1] 1"
      ]
     },
     "metadata": {},
     "output_type": "display_data"
    }
   ],
   "source": [
    "log(x=10)\n",
    "log(x=10, base=10)"
   ]
  },
  {
   "cell_type": "code",
   "execution_count": 25,
   "metadata": {
    "ExecuteTime": {
     "end_time": "2020-10-05T08:34:08.966999Z",
     "start_time": "2020-10-05T08:34:08.919Z"
    }
   },
   "outputs": [
    {
     "data": {
      "text/html": [
       "3"
      ],
      "text/latex": [
       "3"
      ],
      "text/markdown": [
       "3"
      ],
      "text/plain": [
       "[1] 3"
      ]
     },
     "metadata": {},
     "output_type": "display_data"
    }
   ],
   "source": [
    "length(x)"
   ]
  },
  {
   "cell_type": "code",
   "execution_count": 27,
   "metadata": {
    "ExecuteTime": {
     "end_time": "2020-10-05T08:34:41.674254Z",
     "start_time": "2020-10-05T08:34:41.663Z"
    }
   },
   "outputs": [
    {
     "data": {
      "text/html": [
       "<ol class=list-inline>\n",
       "\t<li>'sss'</li>\n",
       "\t<li>'TRUE'</li>\n",
       "\t<li>'sss'</li>\n",
       "\t<li>'TRUE'</li>\n",
       "\t<li>'sss'</li>\n",
       "\t<li>'TRUE'</li>\n",
       "\t<li>'sss'</li>\n",
       "\t<li>'TRUE'</li>\n",
       "\t<li>'sss'</li>\n",
       "\t<li>'TRUE'</li>\n",
       "\t<li>'sss'</li>\n",
       "\t<li>'TRUE'</li>\n",
       "\t<li>'sss'</li>\n",
       "\t<li>'TRUE'</li>\n",
       "\t<li>'sss'</li>\n",
       "\t<li>'TRUE'</li>\n",
       "\t<li>'sss'</li>\n",
       "\t<li>'TRUE'</li>\n",
       "\t<li>'sss'</li>\n",
       "\t<li>'TRUE'</li>\n",
       "\t<li>'sss'</li>\n",
       "\t<li>'TRUE'</li>\n",
       "\t<li>'sss'</li>\n",
       "\t<li>'TRUE'</li>\n",
       "\t<li>'sss'</li>\n",
       "\t<li>'TRUE'</li>\n",
       "\t<li>'sss'</li>\n",
       "\t<li>'TRUE'</li>\n",
       "</ol>\n"
      ],
      "text/latex": [
       "\\begin{enumerate*}\n",
       "\\item 'sss'\n",
       "\\item 'TRUE'\n",
       "\\item 'sss'\n",
       "\\item 'TRUE'\n",
       "\\item 'sss'\n",
       "\\item 'TRUE'\n",
       "\\item 'sss'\n",
       "\\item 'TRUE'\n",
       "\\item 'sss'\n",
       "\\item 'TRUE'\n",
       "\\item 'sss'\n",
       "\\item 'TRUE'\n",
       "\\item 'sss'\n",
       "\\item 'TRUE'\n",
       "\\item 'sss'\n",
       "\\item 'TRUE'\n",
       "\\item 'sss'\n",
       "\\item 'TRUE'\n",
       "\\item 'sss'\n",
       "\\item 'TRUE'\n",
       "\\item 'sss'\n",
       "\\item 'TRUE'\n",
       "\\item 'sss'\n",
       "\\item 'TRUE'\n",
       "\\item 'sss'\n",
       "\\item 'TRUE'\n",
       "\\item 'sss'\n",
       "\\item 'TRUE'\n",
       "\\end{enumerate*}\n"
      ],
      "text/markdown": [
       "1. 'sss'\n",
       "2. 'TRUE'\n",
       "3. 'sss'\n",
       "4. 'TRUE'\n",
       "5. 'sss'\n",
       "6. 'TRUE'\n",
       "7. 'sss'\n",
       "8. 'TRUE'\n",
       "9. 'sss'\n",
       "10. 'TRUE'\n",
       "11. 'sss'\n",
       "12. 'TRUE'\n",
       "13. 'sss'\n",
       "14. 'TRUE'\n",
       "15. 'sss'\n",
       "16. 'TRUE'\n",
       "17. 'sss'\n",
       "18. 'TRUE'\n",
       "19. 'sss'\n",
       "20. 'TRUE'\n",
       "21. 'sss'\n",
       "22. 'TRUE'\n",
       "23. 'sss'\n",
       "24. 'TRUE'\n",
       "25. 'sss'\n",
       "26. 'TRUE'\n",
       "27. 'sss'\n",
       "28. 'TRUE'\n",
       "\n",
       "\n"
      ],
      "text/plain": [
       " [1] \"sss\"  \"TRUE\" \"sss\"  \"TRUE\" \"sss\"  \"TRUE\" \"sss\"  \"TRUE\" \"sss\"  \"TRUE\"\n",
       "[11] \"sss\"  \"TRUE\" \"sss\"  \"TRUE\" \"sss\"  \"TRUE\" \"sss\"  \"TRUE\" \"sss\"  \"TRUE\"\n",
       "[21] \"sss\"  \"TRUE\" \"sss\"  \"TRUE\" \"sss\"  \"TRUE\" \"sss\"  \"TRUE\""
      ]
     },
     "metadata": {},
     "output_type": "display_data"
    }
   ],
   "source": [
    "rep(c(\"sss\", T), 14)"
   ]
  },
  {
   "cell_type": "code",
   "execution_count": 40,
   "metadata": {
    "ExecuteTime": {
     "end_time": "2020-10-05T08:37:15.577358Z",
     "start_time": "2020-10-05T08:37:15.566Z"
    }
   },
   "outputs": [
    {
     "data": {
      "text/html": [
       "<ol class=list-inline>\n",
       "\t<li>3</li>\n",
       "\t<li>5</li>\n",
       "\t<li>7</li>\n",
       "</ol>\n"
      ],
      "text/latex": [
       "\\begin{enumerate*}\n",
       "\\item 3\n",
       "\\item 5\n",
       "\\item 7\n",
       "\\end{enumerate*}\n"
      ],
      "text/markdown": [
       "1. 3\n",
       "2. 5\n",
       "3. 7\n",
       "\n",
       "\n"
      ],
      "text/plain": [
       "[1] 3 5 7"
      ]
     },
     "metadata": {},
     "output_type": "display_data"
    }
   ],
   "source": [
    "seq(from=1, to=6, by=2)+2"
   ]
  },
  {
   "cell_type": "code",
   "execution_count": 34,
   "metadata": {
    "ExecuteTime": {
     "end_time": "2020-10-05T08:36:24.326358Z",
     "start_time": "2020-10-05T08:36:24.315Z"
    }
   },
   "outputs": [],
   "source": [
    "y <- 1:19"
   ]
  },
  {
   "cell_type": "code",
   "execution_count": 39,
   "metadata": {
    "ExecuteTime": {
     "end_time": "2020-10-05T08:37:07.079635Z",
     "start_time": "2020-10-05T08:37:07.061Z"
    }
   },
   "outputs": [
    {
     "data": {
      "text/html": [
       "<ol class=list-inline>\n",
       "\t<li>3</li>\n",
       "\t<li>5</li>\n",
       "\t<li>7</li>\n",
       "</ol>\n"
      ],
      "text/latex": [
       "\\begin{enumerate*}\n",
       "\\item 3\n",
       "\\item 5\n",
       "\\item 7\n",
       "\\end{enumerate*}\n"
      ],
      "text/markdown": [
       "1. 3\n",
       "2. 5\n",
       "3. 7\n",
       "\n",
       "\n"
      ],
      "text/plain": [
       "[1] 3 5 7"
      ]
     },
     "metadata": {},
     "output_type": "display_data"
    }
   ],
   "source": [
    "y[seq(from=1, to=6, by=2)+2]"
   ]
  },
  {
   "cell_type": "code",
   "execution_count": 42,
   "metadata": {
    "ExecuteTime": {
     "end_time": "2020-10-05T08:37:54.906043Z",
     "start_time": "2020-10-05T08:37:54.892Z"
    }
   },
   "outputs": [
    {
     "data": {
      "text/html": [
       "<ol class=list-inline>\n",
       "\t<li>FALSE</li>\n",
       "\t<li>FALSE</li>\n",
       "\t<li>FALSE</li>\n",
       "\t<li>FALSE</li>\n",
       "\t<li>TRUE</li>\n",
       "\t<li>TRUE</li>\n",
       "\t<li>TRUE</li>\n",
       "\t<li>TRUE</li>\n",
       "\t<li>TRUE</li>\n",
       "\t<li>TRUE</li>\n",
       "\t<li>TRUE</li>\n",
       "\t<li>TRUE</li>\n",
       "\t<li>TRUE</li>\n",
       "\t<li>TRUE</li>\n",
       "\t<li>TRUE</li>\n",
       "\t<li>TRUE</li>\n",
       "\t<li>TRUE</li>\n",
       "\t<li>TRUE</li>\n",
       "\t<li>TRUE</li>\n",
       "</ol>\n"
      ],
      "text/latex": [
       "\\begin{enumerate*}\n",
       "\\item FALSE\n",
       "\\item FALSE\n",
       "\\item FALSE\n",
       "\\item FALSE\n",
       "\\item TRUE\n",
       "\\item TRUE\n",
       "\\item TRUE\n",
       "\\item TRUE\n",
       "\\item TRUE\n",
       "\\item TRUE\n",
       "\\item TRUE\n",
       "\\item TRUE\n",
       "\\item TRUE\n",
       "\\item TRUE\n",
       "\\item TRUE\n",
       "\\item TRUE\n",
       "\\item TRUE\n",
       "\\item TRUE\n",
       "\\item TRUE\n",
       "\\end{enumerate*}\n"
      ],
      "text/markdown": [
       "1. FALSE\n",
       "2. FALSE\n",
       "3. FALSE\n",
       "4. FALSE\n",
       "5. TRUE\n",
       "6. TRUE\n",
       "7. TRUE\n",
       "8. TRUE\n",
       "9. TRUE\n",
       "10. TRUE\n",
       "11. TRUE\n",
       "12. TRUE\n",
       "13. TRUE\n",
       "14. TRUE\n",
       "15. TRUE\n",
       "16. TRUE\n",
       "17. TRUE\n",
       "18. TRUE\n",
       "19. TRUE\n",
       "\n",
       "\n"
      ],
      "text/plain": [
       " [1] FALSE FALSE FALSE FALSE  TRUE  TRUE  TRUE  TRUE  TRUE  TRUE  TRUE  TRUE\n",
       "[13]  TRUE  TRUE  TRUE  TRUE  TRUE  TRUE  TRUE"
      ]
     },
     "metadata": {},
     "output_type": "display_data"
    },
    {
     "data": {
      "text/html": [
       "<ol class=list-inline>\n",
       "\t<li>5</li>\n",
       "\t<li>6</li>\n",
       "\t<li>7</li>\n",
       "\t<li>8</li>\n",
       "\t<li>9</li>\n",
       "\t<li>10</li>\n",
       "\t<li>11</li>\n",
       "\t<li>12</li>\n",
       "\t<li>13</li>\n",
       "\t<li>14</li>\n",
       "\t<li>15</li>\n",
       "\t<li>16</li>\n",
       "\t<li>17</li>\n",
       "\t<li>18</li>\n",
       "\t<li>19</li>\n",
       "</ol>\n"
      ],
      "text/latex": [
       "\\begin{enumerate*}\n",
       "\\item 5\n",
       "\\item 6\n",
       "\\item 7\n",
       "\\item 8\n",
       "\\item 9\n",
       "\\item 10\n",
       "\\item 11\n",
       "\\item 12\n",
       "\\item 13\n",
       "\\item 14\n",
       "\\item 15\n",
       "\\item 16\n",
       "\\item 17\n",
       "\\item 18\n",
       "\\item 19\n",
       "\\end{enumerate*}\n"
      ],
      "text/markdown": [
       "1. 5\n",
       "2. 6\n",
       "3. 7\n",
       "4. 8\n",
       "5. 9\n",
       "6. 10\n",
       "7. 11\n",
       "8. 12\n",
       "9. 13\n",
       "10. 14\n",
       "11. 15\n",
       "12. 16\n",
       "13. 17\n",
       "14. 18\n",
       "15. 19\n",
       "\n",
       "\n"
      ],
      "text/plain": [
       " [1]  5  6  7  8  9 10 11 12 13 14 15 16 17 18 19"
      ]
     },
     "metadata": {},
     "output_type": "display_data"
    }
   ],
   "source": [
    "y>4\n",
    "y[y>4]"
   ]
  },
  {
   "cell_type": "code",
   "execution_count": 45,
   "metadata": {
    "ExecuteTime": {
     "end_time": "2020-10-05T08:40:46.946003Z",
     "start_time": "2020-10-05T08:40:46.047Z"
    }
   },
   "outputs": [
    {
     "name": "stderr",
     "output_type": "stream",
     "text": [
      "Loading required package: car\n",
      "Loading required package: carData\n",
      "\n",
      "Attaching package: ‘car’\n",
      "\n",
      "The following object is masked from ‘package:dplyr’:\n",
      "\n",
      "    recode\n",
      "\n",
      "Loading required package: lmtest\n",
      "Loading required package: zoo\n",
      "\n",
      "Attaching package: ‘zoo’\n",
      "\n",
      "The following objects are masked from ‘package:base’:\n",
      "\n",
      "    as.Date, as.Date.numeric\n",
      "\n",
      "Loading required package: sandwich\n",
      "Loading required package: survival\n"
     ]
    }
   ],
   "source": [
    "library('AER')"
   ]
  },
  {
   "cell_type": "code",
   "execution_count": 51,
   "metadata": {
    "ExecuteTime": {
     "end_time": "2020-10-05T08:41:41.917889Z",
     "start_time": "2020-10-05T08:41:41.909Z"
    }
   },
   "outputs": [],
   "source": [
    "df  <- cars"
   ]
  },
  {
   "cell_type": "code",
   "execution_count": 53,
   "metadata": {
    "ExecuteTime": {
     "end_time": "2020-10-05T08:41:49.533990Z",
     "start_time": "2020-10-05T08:41:49.517Z"
    }
   },
   "outputs": [
    {
     "data": {
      "text/html": [
       "'list'"
      ],
      "text/latex": [
       "'list'"
      ],
      "text/markdown": [
       "'list'"
      ],
      "text/plain": [
       "[1] \"list\""
      ]
     },
     "metadata": {},
     "output_type": "display_data"
    }
   ],
   "source": [
    "typeof(df)"
   ]
  },
  {
   "cell_type": "code",
   "execution_count": 58,
   "metadata": {
    "ExecuteTime": {
     "end_time": "2020-10-05T08:42:22.789071Z",
     "start_time": "2020-10-05T08:42:22.772Z"
    }
   },
   "outputs": [],
   "source": [
    "df <-as.data.frame(df)"
   ]
  },
  {
   "cell_type": "code",
   "execution_count": 59,
   "metadata": {
    "ExecuteTime": {
     "end_time": "2020-10-05T08:42:27.345504Z",
     "start_time": "2020-10-05T08:42:27.333Z"
    }
   },
   "outputs": [
    {
     "data": {
      "text/html": [
       "'list'"
      ],
      "text/latex": [
       "'list'"
      ],
      "text/markdown": [
       "'list'"
      ],
      "text/plain": [
       "[1] \"list\""
      ]
     },
     "metadata": {},
     "output_type": "display_data"
    }
   ],
   "source": [
    "typeof(df)"
   ]
  },
  {
   "cell_type": "code",
   "execution_count": 63,
   "metadata": {
    "ExecuteTime": {
     "end_time": "2020-10-05T08:43:03.168292Z",
     "start_time": "2020-10-05T08:43:03.149Z"
    }
   },
   "outputs": [
    {
     "data": {
      "text/html": [
       "<table>\n",
       "<caption>A data.frame: 2 × 2</caption>\n",
       "<thead>\n",
       "\t<tr><th scope=col>speed</th><th scope=col>dist</th></tr>\n",
       "\t<tr><th scope=col>&lt;dbl&gt;</th><th scope=col>&lt;dbl&gt;</th></tr>\n",
       "</thead>\n",
       "<tbody>\n",
       "\t<tr><td>4</td><td> 2</td></tr>\n",
       "\t<tr><td>4</td><td>10</td></tr>\n",
       "</tbody>\n",
       "</table>\n"
      ],
      "text/latex": [
       "A data.frame: 2 × 2\n",
       "\\begin{tabular}{r|ll}\n",
       " speed & dist\\\\\n",
       " <dbl> & <dbl>\\\\\n",
       "\\hline\n",
       "\t 4 &  2\\\\\n",
       "\t 4 & 10\\\\\n",
       "\\end{tabular}\n"
      ],
      "text/markdown": [
       "\n",
       "A data.frame: 2 × 2\n",
       "\n",
       "| speed &lt;dbl&gt; | dist &lt;dbl&gt; |\n",
       "|---|---|\n",
       "| 4 |  2 |\n",
       "| 4 | 10 |\n",
       "\n"
      ],
      "text/plain": [
       "  speed dist\n",
       "1 4      2  \n",
       "2 4     10  "
      ]
     },
     "metadata": {},
     "output_type": "display_data"
    },
    {
     "data": {
      "text/html": [
       "<table>\n",
       "<caption>A data.frame: 2 × 2</caption>\n",
       "<thead>\n",
       "\t<tr><th></th><th scope=col>speed</th><th scope=col>dist</th></tr>\n",
       "\t<tr><th></th><th scope=col>&lt;dbl&gt;</th><th scope=col>&lt;dbl&gt;</th></tr>\n",
       "</thead>\n",
       "<tbody>\n",
       "\t<tr><th scope=row>49</th><td>24</td><td>120</td></tr>\n",
       "\t<tr><th scope=row>50</th><td>25</td><td> 85</td></tr>\n",
       "</tbody>\n",
       "</table>\n"
      ],
      "text/latex": [
       "A data.frame: 2 × 2\n",
       "\\begin{tabular}{r|ll}\n",
       "  & speed & dist\\\\\n",
       "  & <dbl> & <dbl>\\\\\n",
       "\\hline\n",
       "\t49 & 24 & 120\\\\\n",
       "\t50 & 25 &  85\\\\\n",
       "\\end{tabular}\n"
      ],
      "text/markdown": [
       "\n",
       "A data.frame: 2 × 2\n",
       "\n",
       "| <!--/--> | speed &lt;dbl&gt; | dist &lt;dbl&gt; |\n",
       "|---|---|---|\n",
       "| 49 | 24 | 120 |\n",
       "| 50 | 25 |  85 |\n",
       "\n"
      ],
      "text/plain": [
       "   speed dist\n",
       "49 24    120 \n",
       "50 25     85 "
      ]
     },
     "metadata": {},
     "output_type": "display_data"
    }
   ],
   "source": [
    "head(df,2)\n",
    "tail(df,2)"
   ]
  },
  {
   "cell_type": "code",
   "execution_count": 66,
   "metadata": {
    "ExecuteTime": {
     "end_time": "2020-10-05T08:43:51.482581Z",
     "start_time": "2020-10-05T08:43:51.471Z"
    }
   },
   "outputs": [
    {
     "data": {
      "text/html": [
       "<ol class=list-inline>\n",
       "\t<li>4</li>\n",
       "\t<li>7</li>\n",
       "</ol>\n"
      ],
      "text/latex": [
       "\\begin{enumerate*}\n",
       "\\item 4\n",
       "\\item 7\n",
       "\\end{enumerate*}\n"
      ],
      "text/markdown": [
       "1. 4\n",
       "2. 7\n",
       "\n",
       "\n"
      ],
      "text/plain": [
       "[1] 4 7"
      ]
     },
     "metadata": {},
     "output_type": "display_data"
    }
   ],
   "source": [
    "df[2:3,'speed']"
   ]
  },
  {
   "cell_type": "code",
   "execution_count": 69,
   "metadata": {
    "ExecuteTime": {
     "end_time": "2020-10-05T08:44:52.091841Z",
     "start_time": "2020-10-05T08:44:52.080Z"
    }
   },
   "outputs": [
    {
     "data": {
      "text/html": [
       "<ol class=list-inline>\n",
       "\t<li>4</li>\n",
       "\t<li>4</li>\n",
       "\t<li>7</li>\n",
       "\t<li>7</li>\n",
       "\t<li>8</li>\n",
       "\t<li>9</li>\n",
       "\t<li>10</li>\n",
       "\t<li>10</li>\n",
       "\t<li>10</li>\n",
       "\t<li>11</li>\n",
       "\t<li>11</li>\n",
       "\t<li>12</li>\n",
       "\t<li>12</li>\n",
       "\t<li>12</li>\n",
       "\t<li>12</li>\n",
       "\t<li>13</li>\n",
       "\t<li>13</li>\n",
       "\t<li>13</li>\n",
       "\t<li>13</li>\n",
       "</ol>\n"
      ],
      "text/latex": [
       "\\begin{enumerate*}\n",
       "\\item 4\n",
       "\\item 4\n",
       "\\item 7\n",
       "\\item 7\n",
       "\\item 8\n",
       "\\item 9\n",
       "\\item 10\n",
       "\\item 10\n",
       "\\item 10\n",
       "\\item 11\n",
       "\\item 11\n",
       "\\item 12\n",
       "\\item 12\n",
       "\\item 12\n",
       "\\item 12\n",
       "\\item 13\n",
       "\\item 13\n",
       "\\item 13\n",
       "\\item 13\n",
       "\\end{enumerate*}\n"
      ],
      "text/markdown": [
       "1. 4\n",
       "2. 4\n",
       "3. 7\n",
       "4. 7\n",
       "5. 8\n",
       "6. 9\n",
       "7. 10\n",
       "8. 10\n",
       "9. 10\n",
       "10. 11\n",
       "11. 11\n",
       "12. 12\n",
       "13. 12\n",
       "14. 12\n",
       "15. 12\n",
       "16. 13\n",
       "17. 13\n",
       "18. 13\n",
       "19. 13\n",
       "\n",
       "\n"
      ],
      "text/plain": [
       " [1]  4  4  7  7  8  9 10 10 10 11 11 12 12 12 12 13 13 13 13"
      ]
     },
     "metadata": {},
     "output_type": "display_data"
    }
   ],
   "source": [
    "df$speed[y]"
   ]
  },
  {
   "cell_type": "code",
   "execution_count": 71,
   "metadata": {
    "ExecuteTime": {
     "end_time": "2020-10-05T08:45:42.311478Z",
     "start_time": "2020-10-05T08:45:42.302Z"
    }
   },
   "outputs": [],
   "source": [
    "colnames(df)[1] <- 'asssa'"
   ]
  },
  {
   "cell_type": "code",
   "execution_count": 73,
   "metadata": {
    "ExecuteTime": {
     "end_time": "2020-10-05T08:45:57.557298Z",
     "start_time": "2020-10-05T08:45:57.546Z"
    }
   },
   "outputs": [
    {
     "data": {
      "text/html": [
       "<ol class=list-inline>\n",
       "\t<li>50</li>\n",
       "\t<li>2</li>\n",
       "</ol>\n"
      ],
      "text/latex": [
       "\\begin{enumerate*}\n",
       "\\item 50\n",
       "\\item 2\n",
       "\\end{enumerate*}\n"
      ],
      "text/markdown": [
       "1. 50\n",
       "2. 2\n",
       "\n",
       "\n"
      ],
      "text/plain": [
       "[1] 50  2"
      ]
     },
     "metadata": {},
     "output_type": "display_data"
    }
   ],
   "source": [
    "dim(df)"
   ]
  },
  {
   "cell_type": "code",
   "execution_count": 74,
   "metadata": {
    "ExecuteTime": {
     "end_time": "2020-10-05T08:46:06.687687Z",
     "start_time": "2020-10-05T08:46:06.676Z"
    }
   },
   "outputs": [
    {
     "name": "stdout",
     "output_type": "stream",
     "text": [
      "'data.frame':\t50 obs. of  2 variables:\n",
      " $ asssa: num  4 4 7 7 8 9 10 10 10 11 ...\n",
      " $ dist : num  2 10 4 22 16 10 18 26 34 17 ...\n"
     ]
    }
   ],
   "source": [
    "str(df)"
   ]
  },
  {
   "cell_type": "code",
   "execution_count": 77,
   "metadata": {
    "ExecuteTime": {
     "end_time": "2020-10-05T08:47:44.087301Z",
     "start_time": "2020-10-05T08:47:44.075Z"
    }
   },
   "outputs": [],
   "source": [
    "df$logdist <- log(df$dist)"
   ]
  },
  {
   "cell_type": "code",
   "execution_count": 79,
   "metadata": {
    "ExecuteTime": {
     "end_time": "2020-10-05T08:48:13.920657Z",
     "start_time": "2020-10-05T08:48:13.907Z"
    }
   },
   "outputs": [],
   "source": [
    "df['d2'] <- log(df$dist) + 2"
   ]
  },
  {
   "cell_type": "code",
   "execution_count": 82,
   "metadata": {
    "ExecuteTime": {
     "end_time": "2020-10-05T08:49:14.893209Z",
     "start_time": "2020-10-05T08:49:14.875Z"
    }
   },
   "outputs": [],
   "source": [
    "df['gen'] <- rep(2,dim(df)[1])"
   ]
  },
  {
   "cell_type": "code",
   "execution_count": 84,
   "metadata": {
    "ExecuteTime": {
     "end_time": "2020-10-05T08:50:24.542190Z",
     "start_time": "2020-10-05T08:50:24.532Z"
    }
   },
   "outputs": [],
   "source": [
    "library('dplyr')"
   ]
  },
  {
   "cell_type": "code",
   "execution_count": 88,
   "metadata": {
    "ExecuteTime": {
     "end_time": "2020-10-05T08:51:18.513798Z",
     "start_time": "2020-10-05T08:51:18.481Z"
    }
   },
   "outputs": [
    {
     "data": {
      "text/html": [
       "<table>\n",
       "<caption>A data.frame: 22 × 5</caption>\n",
       "<thead>\n",
       "\t<tr><th scope=col>asssa</th><th scope=col>dist</th><th scope=col>logdist</th><th scope=col>d2</th><th scope=col>gen</th></tr>\n",
       "\t<tr><th scope=col>&lt;dbl&gt;</th><th scope=col>&lt;dbl&gt;</th><th scope=col>&lt;dbl&gt;</th><th scope=col>&lt;dbl&gt;</th><th scope=col>&lt;dbl&gt;</th></tr>\n",
       "</thead>\n",
       "<tbody>\n",
       "\t<tr><td>13</td><td> 46</td><td>3.828641</td><td>5.828641</td><td>2</td></tr>\n",
       "\t<tr><td>14</td><td> 60</td><td>4.094345</td><td>6.094345</td><td>2</td></tr>\n",
       "\t<tr><td>14</td><td> 80</td><td>4.382027</td><td>6.382027</td><td>2</td></tr>\n",
       "\t<tr><td>15</td><td> 54</td><td>3.988984</td><td>5.988984</td><td>2</td></tr>\n",
       "\t<tr><td>17</td><td> 50</td><td>3.912023</td><td>5.912023</td><td>2</td></tr>\n",
       "\t<tr><td>18</td><td> 42</td><td>3.737670</td><td>5.737670</td><td>2</td></tr>\n",
       "\t<tr><td>18</td><td> 56</td><td>4.025352</td><td>6.025352</td><td>2</td></tr>\n",
       "\t<tr><td>18</td><td> 76</td><td>4.330733</td><td>6.330733</td><td>2</td></tr>\n",
       "\t<tr><td>18</td><td> 84</td><td>4.430817</td><td>6.430817</td><td>2</td></tr>\n",
       "\t<tr><td>19</td><td> 46</td><td>3.828641</td><td>5.828641</td><td>2</td></tr>\n",
       "\t<tr><td>19</td><td> 68</td><td>4.219508</td><td>6.219508</td><td>2</td></tr>\n",
       "\t<tr><td>20</td><td> 48</td><td>3.871201</td><td>5.871201</td><td>2</td></tr>\n",
       "\t<tr><td>20</td><td> 52</td><td>3.951244</td><td>5.951244</td><td>2</td></tr>\n",
       "\t<tr><td>20</td><td> 56</td><td>4.025352</td><td>6.025352</td><td>2</td></tr>\n",
       "\t<tr><td>20</td><td> 64</td><td>4.158883</td><td>6.158883</td><td>2</td></tr>\n",
       "\t<tr><td>22</td><td> 66</td><td>4.189655</td><td>6.189655</td><td>2</td></tr>\n",
       "\t<tr><td>23</td><td> 54</td><td>3.988984</td><td>5.988984</td><td>2</td></tr>\n",
       "\t<tr><td>24</td><td> 70</td><td>4.248495</td><td>6.248495</td><td>2</td></tr>\n",
       "\t<tr><td>24</td><td> 92</td><td>4.521789</td><td>6.521789</td><td>2</td></tr>\n",
       "\t<tr><td>24</td><td> 93</td><td>4.532599</td><td>6.532599</td><td>2</td></tr>\n",
       "\t<tr><td>24</td><td>120</td><td>4.787492</td><td>6.787492</td><td>2</td></tr>\n",
       "\t<tr><td>25</td><td> 85</td><td>4.442651</td><td>6.442651</td><td>2</td></tr>\n",
       "</tbody>\n",
       "</table>\n"
      ],
      "text/latex": [
       "A data.frame: 22 × 5\n",
       "\\begin{tabular}{r|lllll}\n",
       " asssa & dist & logdist & d2 & gen\\\\\n",
       " <dbl> & <dbl> & <dbl> & <dbl> & <dbl>\\\\\n",
       "\\hline\n",
       "\t 13 &  46 & 3.828641 & 5.828641 & 2\\\\\n",
       "\t 14 &  60 & 4.094345 & 6.094345 & 2\\\\\n",
       "\t 14 &  80 & 4.382027 & 6.382027 & 2\\\\\n",
       "\t 15 &  54 & 3.988984 & 5.988984 & 2\\\\\n",
       "\t 17 &  50 & 3.912023 & 5.912023 & 2\\\\\n",
       "\t 18 &  42 & 3.737670 & 5.737670 & 2\\\\\n",
       "\t 18 &  56 & 4.025352 & 6.025352 & 2\\\\\n",
       "\t 18 &  76 & 4.330733 & 6.330733 & 2\\\\\n",
       "\t 18 &  84 & 4.430817 & 6.430817 & 2\\\\\n",
       "\t 19 &  46 & 3.828641 & 5.828641 & 2\\\\\n",
       "\t 19 &  68 & 4.219508 & 6.219508 & 2\\\\\n",
       "\t 20 &  48 & 3.871201 & 5.871201 & 2\\\\\n",
       "\t 20 &  52 & 3.951244 & 5.951244 & 2\\\\\n",
       "\t 20 &  56 & 4.025352 & 6.025352 & 2\\\\\n",
       "\t 20 &  64 & 4.158883 & 6.158883 & 2\\\\\n",
       "\t 22 &  66 & 4.189655 & 6.189655 & 2\\\\\n",
       "\t 23 &  54 & 3.988984 & 5.988984 & 2\\\\\n",
       "\t 24 &  70 & 4.248495 & 6.248495 & 2\\\\\n",
       "\t 24 &  92 & 4.521789 & 6.521789 & 2\\\\\n",
       "\t 24 &  93 & 4.532599 & 6.532599 & 2\\\\\n",
       "\t 24 & 120 & 4.787492 & 6.787492 & 2\\\\\n",
       "\t 25 &  85 & 4.442651 & 6.442651 & 2\\\\\n",
       "\\end{tabular}\n"
      ],
      "text/markdown": [
       "\n",
       "A data.frame: 22 × 5\n",
       "\n",
       "| asssa &lt;dbl&gt; | dist &lt;dbl&gt; | logdist &lt;dbl&gt; | d2 &lt;dbl&gt; | gen &lt;dbl&gt; |\n",
       "|---|---|---|---|---|\n",
       "| 13 |  46 | 3.828641 | 5.828641 | 2 |\n",
       "| 14 |  60 | 4.094345 | 6.094345 | 2 |\n",
       "| 14 |  80 | 4.382027 | 6.382027 | 2 |\n",
       "| 15 |  54 | 3.988984 | 5.988984 | 2 |\n",
       "| 17 |  50 | 3.912023 | 5.912023 | 2 |\n",
       "| 18 |  42 | 3.737670 | 5.737670 | 2 |\n",
       "| 18 |  56 | 4.025352 | 6.025352 | 2 |\n",
       "| 18 |  76 | 4.330733 | 6.330733 | 2 |\n",
       "| 18 |  84 | 4.430817 | 6.430817 | 2 |\n",
       "| 19 |  46 | 3.828641 | 5.828641 | 2 |\n",
       "| 19 |  68 | 4.219508 | 6.219508 | 2 |\n",
       "| 20 |  48 | 3.871201 | 5.871201 | 2 |\n",
       "| 20 |  52 | 3.951244 | 5.951244 | 2 |\n",
       "| 20 |  56 | 4.025352 | 6.025352 | 2 |\n",
       "| 20 |  64 | 4.158883 | 6.158883 | 2 |\n",
       "| 22 |  66 | 4.189655 | 6.189655 | 2 |\n",
       "| 23 |  54 | 3.988984 | 5.988984 | 2 |\n",
       "| 24 |  70 | 4.248495 | 6.248495 | 2 |\n",
       "| 24 |  92 | 4.521789 | 6.521789 | 2 |\n",
       "| 24 |  93 | 4.532599 | 6.532599 | 2 |\n",
       "| 24 | 120 | 4.787492 | 6.787492 | 2 |\n",
       "| 25 |  85 | 4.442651 | 6.442651 | 2 |\n",
       "\n"
      ],
      "text/plain": [
       "   asssa dist logdist  d2       gen\n",
       "1  13     46  3.828641 5.828641 2  \n",
       "2  14     60  4.094345 6.094345 2  \n",
       "3  14     80  4.382027 6.382027 2  \n",
       "4  15     54  3.988984 5.988984 2  \n",
       "5  17     50  3.912023 5.912023 2  \n",
       "6  18     42  3.737670 5.737670 2  \n",
       "7  18     56  4.025352 6.025352 2  \n",
       "8  18     76  4.330733 6.330733 2  \n",
       "9  18     84  4.430817 6.430817 2  \n",
       "10 19     46  3.828641 5.828641 2  \n",
       "11 19     68  4.219508 6.219508 2  \n",
       "12 20     48  3.871201 5.871201 2  \n",
       "13 20     52  3.951244 5.951244 2  \n",
       "14 20     56  4.025352 6.025352 2  \n",
       "15 20     64  4.158883 6.158883 2  \n",
       "16 22     66  4.189655 6.189655 2  \n",
       "17 23     54  3.988984 5.988984 2  \n",
       "18 24     70  4.248495 6.248495 2  \n",
       "19 24     92  4.521789 6.521789 2  \n",
       "20 24     93  4.532599 6.532599 2  \n",
       "21 24    120  4.787492 6.787492 2  \n",
       "22 25     85  4.442651 6.442651 2  "
      ]
     },
     "metadata": {},
     "output_type": "display_data"
    }
   ],
   "source": [
    "filter(df, dist>40) "
   ]
  },
  {
   "cell_type": "code",
   "execution_count": 96,
   "metadata": {
    "ExecuteTime": {
     "end_time": "2020-10-05T08:55:04.529391Z",
     "start_time": "2020-10-05T08:55:04.491Z"
    }
   },
   "outputs": [
    {
     "data": {
      "text/html": [
       "<table>\n",
       "<caption>A data.frame: 10 × 10</caption>\n",
       "<thead>\n",
       "\t<tr><th scope=col>asssa</th><th scope=col>dist</th><th scope=col>logdist</th><th scope=col>d2</th><th scope=col>gen</th><th scope=col>asssa</th><th scope=col>dist</th><th scope=col>logdist</th><th scope=col>d2</th><th scope=col>gen</th></tr>\n",
       "\t<tr><th scope=col>&lt;dbl&gt;</th><th scope=col>&lt;dbl&gt;</th><th scope=col>&lt;dbl&gt;</th><th scope=col>&lt;dbl&gt;</th><th scope=col>&lt;dbl&gt;</th><th scope=col>&lt;dbl&gt;</th><th scope=col>&lt;dbl&gt;</th><th scope=col>&lt;dbl&gt;</th><th scope=col>&lt;dbl&gt;</th><th scope=col>&lt;dbl&gt;</th></tr>\n",
       "</thead>\n",
       "<tbody>\n",
       "\t<tr><td> 4</td><td> 2</td><td>0.6931472</td><td>2.693147</td><td>2</td><td> 4</td><td> 2</td><td>0.6931472</td><td>2.693147</td><td>2</td></tr>\n",
       "\t<tr><td> 4</td><td>10</td><td>2.3025851</td><td>4.302585</td><td>2</td><td> 4</td><td>10</td><td>2.3025851</td><td>4.302585</td><td>2</td></tr>\n",
       "\t<tr><td> 7</td><td> 4</td><td>1.3862944</td><td>3.386294</td><td>2</td><td> 7</td><td> 4</td><td>1.3862944</td><td>3.386294</td><td>2</td></tr>\n",
       "\t<tr><td> 7</td><td>22</td><td>3.0910425</td><td>5.091042</td><td>2</td><td> 7</td><td>22</td><td>3.0910425</td><td>5.091042</td><td>2</td></tr>\n",
       "\t<tr><td> 8</td><td>16</td><td>2.7725887</td><td>4.772589</td><td>2</td><td> 8</td><td>16</td><td>2.7725887</td><td>4.772589</td><td>2</td></tr>\n",
       "\t<tr><td> 9</td><td>10</td><td>2.3025851</td><td>4.302585</td><td>2</td><td> 9</td><td>10</td><td>2.3025851</td><td>4.302585</td><td>2</td></tr>\n",
       "\t<tr><td>10</td><td>18</td><td>2.8903718</td><td>4.890372</td><td>2</td><td>10</td><td>18</td><td>2.8903718</td><td>4.890372</td><td>2</td></tr>\n",
       "\t<tr><td>10</td><td>26</td><td>3.2580965</td><td>5.258097</td><td>2</td><td>10</td><td>26</td><td>3.2580965</td><td>5.258097</td><td>2</td></tr>\n",
       "\t<tr><td>10</td><td>34</td><td>3.5263605</td><td>5.526361</td><td>2</td><td>10</td><td>34</td><td>3.5263605</td><td>5.526361</td><td>2</td></tr>\n",
       "\t<tr><td>11</td><td>17</td><td>2.8332133</td><td>4.833213</td><td>2</td><td>11</td><td>17</td><td>2.8332133</td><td>4.833213</td><td>2</td></tr>\n",
       "</tbody>\n",
       "</table>\n"
      ],
      "text/latex": [
       "A data.frame: 10 × 10\n",
       "\\begin{tabular}{r|llllllllll}\n",
       " asssa & dist & logdist & d2 & gen & asssa & dist & logdist & d2 & gen\\\\\n",
       " <dbl> & <dbl> & <dbl> & <dbl> & <dbl> & <dbl> & <dbl> & <dbl> & <dbl> & <dbl>\\\\\n",
       "\\hline\n",
       "\t  4 &  2 & 0.6931472 & 2.693147 & 2 &  4 &  2 & 0.6931472 & 2.693147 & 2\\\\\n",
       "\t  4 & 10 & 2.3025851 & 4.302585 & 2 &  4 & 10 & 2.3025851 & 4.302585 & 2\\\\\n",
       "\t  7 &  4 & 1.3862944 & 3.386294 & 2 &  7 &  4 & 1.3862944 & 3.386294 & 2\\\\\n",
       "\t  7 & 22 & 3.0910425 & 5.091042 & 2 &  7 & 22 & 3.0910425 & 5.091042 & 2\\\\\n",
       "\t  8 & 16 & 2.7725887 & 4.772589 & 2 &  8 & 16 & 2.7725887 & 4.772589 & 2\\\\\n",
       "\t  9 & 10 & 2.3025851 & 4.302585 & 2 &  9 & 10 & 2.3025851 & 4.302585 & 2\\\\\n",
       "\t 10 & 18 & 2.8903718 & 4.890372 & 2 & 10 & 18 & 2.8903718 & 4.890372 & 2\\\\\n",
       "\t 10 & 26 & 3.2580965 & 5.258097 & 2 & 10 & 26 & 3.2580965 & 5.258097 & 2\\\\\n",
       "\t 10 & 34 & 3.5263605 & 5.526361 & 2 & 10 & 34 & 3.5263605 & 5.526361 & 2\\\\\n",
       "\t 11 & 17 & 2.8332133 & 4.833213 & 2 & 11 & 17 & 2.8332133 & 4.833213 & 2\\\\\n",
       "\\end{tabular}\n"
      ],
      "text/markdown": [
       "\n",
       "A data.frame: 10 × 10\n",
       "\n",
       "| asssa &lt;dbl&gt; | dist &lt;dbl&gt; | logdist &lt;dbl&gt; | d2 &lt;dbl&gt; | gen &lt;dbl&gt; | asssa &lt;dbl&gt; | dist &lt;dbl&gt; | logdist &lt;dbl&gt; | d2 &lt;dbl&gt; | gen &lt;dbl&gt; |\n",
       "|---|---|---|---|---|---|---|---|---|---|\n",
       "|  4 |  2 | 0.6931472 | 2.693147 | 2 |  4 |  2 | 0.6931472 | 2.693147 | 2 |\n",
       "|  4 | 10 | 2.3025851 | 4.302585 | 2 |  4 | 10 | 2.3025851 | 4.302585 | 2 |\n",
       "|  7 |  4 | 1.3862944 | 3.386294 | 2 |  7 |  4 | 1.3862944 | 3.386294 | 2 |\n",
       "|  7 | 22 | 3.0910425 | 5.091042 | 2 |  7 | 22 | 3.0910425 | 5.091042 | 2 |\n",
       "|  8 | 16 | 2.7725887 | 4.772589 | 2 |  8 | 16 | 2.7725887 | 4.772589 | 2 |\n",
       "|  9 | 10 | 2.3025851 | 4.302585 | 2 |  9 | 10 | 2.3025851 | 4.302585 | 2 |\n",
       "| 10 | 18 | 2.8903718 | 4.890372 | 2 | 10 | 18 | 2.8903718 | 4.890372 | 2 |\n",
       "| 10 | 26 | 3.2580965 | 5.258097 | 2 | 10 | 26 | 3.2580965 | 5.258097 | 2 |\n",
       "| 10 | 34 | 3.5263605 | 5.526361 | 2 | 10 | 34 | 3.5263605 | 5.526361 | 2 |\n",
       "| 11 | 17 | 2.8332133 | 4.833213 | 2 | 11 | 17 | 2.8332133 | 4.833213 | 2 |\n",
       "\n"
      ],
      "text/plain": [
       "   asssa dist logdist   d2       gen asssa dist logdist   d2       gen\n",
       "1   4     2   0.6931472 2.693147 2    4     2   0.6931472 2.693147 2  \n",
       "2   4    10   2.3025851 4.302585 2    4    10   2.3025851 4.302585 2  \n",
       "3   7     4   1.3862944 3.386294 2    7     4   1.3862944 3.386294 2  \n",
       "4   7    22   3.0910425 5.091042 2    7    22   3.0910425 5.091042 2  \n",
       "5   8    16   2.7725887 4.772589 2    8    16   2.7725887 4.772589 2  \n",
       "6   9    10   2.3025851 4.302585 2    9    10   2.3025851 4.302585 2  \n",
       "7  10    18   2.8903718 4.890372 2   10    18   2.8903718 4.890372 2  \n",
       "8  10    26   3.2580965 5.258097 2   10    26   3.2580965 5.258097 2  \n",
       "9  10    34   3.5263605 5.526361 2   10    34   3.5263605 5.526361 2  \n",
       "10 11    17   2.8332133 4.833213 2   11    17   2.8332133 4.833213 2  "
      ]
     },
     "metadata": {},
     "output_type": "display_data"
    }
   ],
   "source": [
    "cbind(df[1:10,], df[1:10,])"
   ]
  },
  {
   "cell_type": "code",
   "execution_count": 98,
   "metadata": {
    "ExecuteTime": {
     "end_time": "2020-10-05T08:56:34.047864Z",
     "start_time": "2020-10-05T08:56:34.030Z"
    }
   },
   "outputs": [],
   "source": [
    "y[3]  <- NA"
   ]
  },
  {
   "cell_type": "code",
   "execution_count": 106,
   "metadata": {
    "ExecuteTime": {
     "end_time": "2020-10-05T08:58:58.388742Z",
     "start_time": "2020-10-05T08:58:58.379Z"
    }
   },
   "outputs": [],
   "source": [
    "df[2,2] <-NA"
   ]
  },
  {
   "cell_type": "code",
   "execution_count": 111,
   "metadata": {
    "ExecuteTime": {
     "end_time": "2020-10-05T09:00:17.436739Z",
     "start_time": "2020-10-05T09:00:17.423Z"
    }
   },
   "outputs": [
    {
     "data": {
      "text/html": [
       "43.6530612244898"
      ],
      "text/latex": [
       "43.6530612244898"
      ],
      "text/markdown": [
       "43.6530612244898"
      ],
      "text/plain": [
       "[1] 43.65306"
      ]
     },
     "metadata": {},
     "output_type": "display_data"
    }
   ],
   "source": [
    "mean(df$dist, na.rm = TRUE)"
   ]
  },
  {
   "cell_type": "code",
   "execution_count": 112,
   "metadata": {
    "ExecuteTime": {
     "end_time": "2020-10-05T09:00:41.931655Z",
     "start_time": "2020-10-05T09:00:41.921Z"
    }
   },
   "outputs": [],
   "source": [
    "x <-  c(2,3,NA)"
   ]
  },
  {
   "cell_type": "code",
   "execution_count": 114,
   "metadata": {
    "ExecuteTime": {
     "end_time": "2020-10-05T09:01:02.132090Z",
     "start_time": "2020-10-05T09:01:02.114Z"
    }
   },
   "outputs": [
    {
     "data": {
      "text/html": [
       "<ol class=list-inline>\n",
       "\t<li>&lt;NA&gt;</li>\n",
       "\t<li>&lt;NA&gt;</li>\n",
       "\t<li>&lt;NA&gt;</li>\n",
       "</ol>\n"
      ],
      "text/latex": [
       "\\begin{enumerate*}\n",
       "\\item <NA>\n",
       "\\item <NA>\n",
       "\\item <NA>\n",
       "\\end{enumerate*}\n"
      ],
      "text/markdown": [
       "1. &lt;NA&gt;\n",
       "2. &lt;NA&gt;\n",
       "3. &lt;NA&gt;\n",
       "\n",
       "\n"
      ],
      "text/plain": [
       "[1] NA NA NA"
      ]
     },
     "metadata": {},
     "output_type": "display_data"
    }
   ],
   "source": [
    "x == NA"
   ]
  },
  {
   "cell_type": "code",
   "execution_count": 120,
   "metadata": {
    "ExecuteTime": {
     "end_time": "2020-10-05T09:01:59.219890Z",
     "start_time": "2020-10-05T09:01:59.197Z"
    }
   },
   "outputs": [
    {
     "data": {
      "text/html": [
       "<table>\n",
       "<caption>A data.frame: 1 × 5</caption>\n",
       "<thead>\n",
       "\t<tr><th></th><th scope=col>asssa</th><th scope=col>dist</th><th scope=col>logdist</th><th scope=col>d2</th><th scope=col>gen</th></tr>\n",
       "\t<tr><th></th><th scope=col>&lt;dbl&gt;</th><th scope=col>&lt;dbl&gt;</th><th scope=col>&lt;dbl&gt;</th><th scope=col>&lt;dbl&gt;</th><th scope=col>&lt;dbl&gt;</th></tr>\n",
       "</thead>\n",
       "<tbody>\n",
       "\t<tr><th scope=row>2</th><td>4</td><td>NA</td><td>2.302585</td><td>4.302585</td><td>2</td></tr>\n",
       "</tbody>\n",
       "</table>\n"
      ],
      "text/latex": [
       "A data.frame: 1 × 5\n",
       "\\begin{tabular}{r|lllll}\n",
       "  & asssa & dist & logdist & d2 & gen\\\\\n",
       "  & <dbl> & <dbl> & <dbl> & <dbl> & <dbl>\\\\\n",
       "\\hline\n",
       "\t2 & 4 & NA & 2.302585 & 4.302585 & 2\\\\\n",
       "\\end{tabular}\n"
      ],
      "text/markdown": [
       "\n",
       "A data.frame: 1 × 5\n",
       "\n",
       "| <!--/--> | asssa &lt;dbl&gt; | dist &lt;dbl&gt; | logdist &lt;dbl&gt; | d2 &lt;dbl&gt; | gen &lt;dbl&gt; |\n",
       "|---|---|---|---|---|---|\n",
       "| 2 | 4 | NA | 2.302585 | 4.302585 | 2 |\n",
       "\n"
      ],
      "text/plain": [
       "  asssa dist logdist  d2       gen\n",
       "2 4     NA   2.302585 4.302585 2  "
      ]
     },
     "metadata": {},
     "output_type": "display_data"
    }
   ],
   "source": [
    "df[is.na(df$dist), ]"
   ]
  },
  {
   "cell_type": "code",
   "execution_count": 123,
   "metadata": {
    "ExecuteTime": {
     "end_time": "2020-10-05T09:03:41.950919Z",
     "start_time": "2020-10-05T09:03:41.938Z"
    }
   },
   "outputs": [
    {
     "data": {
      "text/plain": [
       "     asssa           dist           logdist      \n",
       " Min.   : 4.0   Min.   :  2.00   Min.   :0.6931  \n",
       " 1st Qu.:12.0   1st Qu.: 26.00   1st Qu.:3.2581  \n",
       " Median :15.0   Median : 36.00   Median :3.5835  \n",
       " Mean   :15.4   Mean   : 43.65   Mean   :3.5359  \n",
       " 3rd Qu.:19.0   3rd Qu.: 56.00   3rd Qu.:4.0254  \n",
       " Max.   :25.0   Max.   :120.00   Max.   :4.7875  \n",
       "                NA's   :1                        "
      ]
     },
     "metadata": {},
     "output_type": "display_data"
    }
   ],
   "source": [
    "summary(df[,1:3])"
   ]
  },
  {
   "cell_type": "code",
   "execution_count": 136,
   "metadata": {
    "ExecuteTime": {
     "end_time": "2020-10-05T09:06:01.715839Z",
     "start_time": "2020-10-05T09:06:01.697Z"
    }
   },
   "outputs": [],
   "source": [
    "df <- df[!rowSums(is.na(df)),]"
   ]
  },
  {
   "cell_type": "code",
   "execution_count": 137,
   "metadata": {
    "ExecuteTime": {
     "end_time": "2020-10-05T09:06:03.113353Z",
     "start_time": "2020-10-05T09:06:03.092Z"
    }
   },
   "outputs": [
    {
     "name": "stderr",
     "output_type": "stream",
     "text": [
      "Warning message in cor(df):\n",
      "“the standard deviation is zero”"
     ]
    },
    {
     "data": {
      "text/html": [
       "<table>\n",
       "<caption>A matrix: 5 × 5 of type dbl</caption>\n",
       "<thead>\n",
       "\t<tr><th></th><th scope=col>asssa</th><th scope=col>dist</th><th scope=col>logdist</th><th scope=col>d2</th><th scope=col>gen</th></tr>\n",
       "</thead>\n",
       "<tbody>\n",
       "\t<tr><th scope=row>asssa</th><td>1.0000000</td><td>0.8023746</td><td>0.8119165</td><td>0.8119165</td><td>NA</td></tr>\n",
       "\t<tr><th scope=row>dist</th><td>0.8023746</td><td>1.0000000</td><td>0.8757068</td><td>0.8757068</td><td>NA</td></tr>\n",
       "\t<tr><th scope=row>logdist</th><td>0.8119165</td><td>0.8757068</td><td>1.0000000</td><td>1.0000000</td><td>NA</td></tr>\n",
       "\t<tr><th scope=row>d2</th><td>0.8119165</td><td>0.8757068</td><td>1.0000000</td><td>1.0000000</td><td>NA</td></tr>\n",
       "\t<tr><th scope=row>gen</th><td>       NA</td><td>       NA</td><td>       NA</td><td>       NA</td><td> 1</td></tr>\n",
       "</tbody>\n",
       "</table>\n"
      ],
      "text/latex": [
       "A matrix: 5 × 5 of type dbl\n",
       "\\begin{tabular}{r|lllll}\n",
       "  & asssa & dist & logdist & d2 & gen\\\\\n",
       "\\hline\n",
       "\tasssa & 1.0000000 & 0.8023746 & 0.8119165 & 0.8119165 & NA\\\\\n",
       "\tdist & 0.8023746 & 1.0000000 & 0.8757068 & 0.8757068 & NA\\\\\n",
       "\tlogdist & 0.8119165 & 0.8757068 & 1.0000000 & 1.0000000 & NA\\\\\n",
       "\td2 & 0.8119165 & 0.8757068 & 1.0000000 & 1.0000000 & NA\\\\\n",
       "\tgen &        NA &        NA &        NA &        NA &  1\\\\\n",
       "\\end{tabular}\n"
      ],
      "text/markdown": [
       "\n",
       "A matrix: 5 × 5 of type dbl\n",
       "\n",
       "| <!--/--> | asssa | dist | logdist | d2 | gen |\n",
       "|---|---|---|---|---|---|\n",
       "| asssa | 1.0000000 | 0.8023746 | 0.8119165 | 0.8119165 | NA |\n",
       "| dist | 0.8023746 | 1.0000000 | 0.8757068 | 0.8757068 | NA |\n",
       "| logdist | 0.8119165 | 0.8757068 | 1.0000000 | 1.0000000 | NA |\n",
       "| d2 | 0.8119165 | 0.8757068 | 1.0000000 | 1.0000000 | NA |\n",
       "| gen |        NA |        NA |        NA |        NA |  1 |\n",
       "\n"
      ],
      "text/plain": [
       "        asssa     dist      logdist   d2        gen\n",
       "asssa   1.0000000 0.8023746 0.8119165 0.8119165 NA \n",
       "dist    0.8023746 1.0000000 0.8757068 0.8757068 NA \n",
       "logdist 0.8119165 0.8757068 1.0000000 1.0000000 NA \n",
       "d2      0.8119165 0.8757068 1.0000000 1.0000000 NA \n",
       "gen            NA        NA        NA        NA  1 "
      ]
     },
     "metadata": {},
     "output_type": "display_data"
    }
   ],
   "source": [
    "cor(df)"
   ]
  },
  {
   "cell_type": "code",
   "execution_count": 145,
   "metadata": {
    "ExecuteTime": {
     "end_time": "2020-10-05T09:08:45.094637Z",
     "start_time": "2020-10-05T09:08:45.036Z"
    }
   },
   "outputs": [
    {
     "name": "stderr",
     "output_type": "stream",
     "text": [
      "Warning message in chisq.test(df$asssa, df$dist):\n",
      "“Chi-squared approximation may be incorrect”"
     ]
    },
    {
     "data": {
      "text/plain": [
       "\n",
       "\tPearson's Chi-squared test\n",
       "\n",
       "data:  df$asssa and df$dist\n",
       "X-squared = 660.96, df = 612, p-value = 0.0834\n"
      ]
     },
     "metadata": {},
     "output_type": "display_data"
    }
   ],
   "source": [
    "chisq.test(df$asssa, df$dist)"
   ]
  },
  {
   "cell_type": "code",
   "execution_count": 151,
   "metadata": {
    "ExecuteTime": {
     "end_time": "2020-10-05T09:10:37.767887Z",
     "start_time": "2020-10-05T09:10:37.759Z"
    }
   },
   "outputs": [],
   "source": [
    "df <- mtcars"
   ]
  },
  {
   "cell_type": "code",
   "execution_count": 162,
   "metadata": {
    "ExecuteTime": {
     "end_time": "2020-10-05T09:13:14.187979Z",
     "start_time": "2020-10-05T09:13:14.175Z"
    }
   },
   "outputs": [],
   "source": [
    "df['cyl2']  <-  df['cyl']^2"
   ]
  },
  {
   "cell_type": "code",
   "execution_count": 174,
   "metadata": {
    "ExecuteTime": {
     "end_time": "2020-10-05T09:15:21.757811Z",
     "start_time": "2020-10-05T09:15:21.748Z"
    }
   },
   "outputs": [],
   "source": [
    "x <- 1:dim(df)[1]\n",
    "df['num'] <- x"
   ]
  },
  {
   "cell_type": "code",
   "execution_count": 202,
   "metadata": {
    "ExecuteTime": {
     "end_time": "2020-10-05T09:24:05.986182Z",
     "start_time": "2020-10-05T09:24:05.950Z"
    }
   },
   "outputs": [],
   "source": [
    "mod <- lm(mpg~0+cyl+disp, data =df)"
   ]
  },
  {
   "cell_type": "code",
   "execution_count": 187,
   "metadata": {
    "ExecuteTime": {
     "end_time": "2020-10-05T09:20:13.654135Z",
     "start_time": "2020-10-05T09:20:13.642Z"
    }
   },
   "outputs": [
    {
     "data": {
      "text/html": [
       "<strong>cyl:</strong> 1.59160080296544"
      ],
      "text/latex": [
       "\\textbf{cyl:} 1.59160080296544"
      ],
      "text/markdown": [
       "**cyl:** 1.59160080296544"
      ],
      "text/plain": [
       "     cyl \n",
       "1.591601 "
      ]
     },
     "metadata": {},
     "output_type": "display_data"
    }
   ],
   "source": [
    "coef(mod)[1]"
   ]
  },
  {
   "cell_type": "code",
   "execution_count": 197,
   "metadata": {
    "ExecuteTime": {
     "end_time": "2020-10-05T09:22:10.388379Z",
     "start_time": "2020-10-05T09:22:10.374Z"
    }
   },
   "outputs": [
    {
     "data": {
      "text/html": [
       "<table>\n",
       "<caption>A matrix: 2 × 2 of type dbl</caption>\n",
       "<thead>\n",
       "\t<tr><th></th><th scope=col>5 %</th><th scope=col>95 %</th></tr>\n",
       "</thead>\n",
       "<tbody>\n",
       "\t<tr><th scope=row>cyl</th><td>0.7543875</td><td>2.4288141</td></tr>\n",
       "\t<tr><th scope=row>num</th><td>0.2029807</td><td>0.7726162</td></tr>\n",
       "</tbody>\n",
       "</table>\n"
      ],
      "text/latex": [
       "A matrix: 2 × 2 of type dbl\n",
       "\\begin{tabular}{r|ll}\n",
       "  & 5 \\% & 95 \\%\\\\\n",
       "\\hline\n",
       "\tcyl & 0.7543875 & 2.4288141\\\\\n",
       "\tnum & 0.2029807 & 0.7726162\\\\\n",
       "\\end{tabular}\n"
      ],
      "text/markdown": [
       "\n",
       "A matrix: 2 × 2 of type dbl\n",
       "\n",
       "| <!--/--> | 5 % | 95 % |\n",
       "|---|---|---|\n",
       "| cyl | 0.7543875 | 2.4288141 |\n",
       "| num | 0.2029807 | 0.7726162 |\n",
       "\n"
      ],
      "text/plain": [
       "    5 %       95 %     \n",
       "cyl 0.7543875 2.4288141\n",
       "num 0.2029807 0.7726162"
      ]
     },
     "metadata": {},
     "output_type": "display_data"
    }
   ],
   "source": [
    "confint(mod,level = 0.90)"
   ]
  },
  {
   "cell_type": "code",
   "execution_count": 189,
   "metadata": {
    "ExecuteTime": {
     "end_time": "2020-10-05T09:20:30.491430Z",
     "start_time": "2020-10-05T09:20:30.474Z"
    }
   },
   "outputs": [
    {
     "data": {
      "text/html": [
       "'list'"
      ],
      "text/latex": [
       "'list'"
      ],
      "text/markdown": [
       "'list'"
      ],
      "text/plain": [
       "[1] \"list\""
      ]
     },
     "metadata": {},
     "output_type": "display_data"
    }
   ],
   "source": [
    "typeof(mod)"
   ]
  },
  {
   "cell_type": "code",
   "execution_count": 194,
   "metadata": {
    "ExecuteTime": {
     "end_time": "2020-10-05T09:21:07.003378Z",
     "start_time": "2020-10-05T09:21:06.983Z"
    }
   },
   "outputs": [
    {
     "data": {
      "text/html": [
       "<dl class=dl-horizontal>\n",
       "\t<dt>Mazda RX4</dt>\n",
       "\t\t<dd>10.0374032608658</dd>\n",
       "\t<dt>Mazda RX4 Wag</dt>\n",
       "\t\t<dd>10.5252017039389</dd>\n",
       "\t<dt>Datsun 710</dt>\n",
       "\t\t<dd>7.8297985410811</dd>\n",
       "\t<dt>Hornet 4 Drive</dt>\n",
       "\t\t<dd>11.5007985900851</dd>\n",
       "\t<dt>Hornet Sportabout</dt>\n",
       "\t\t<dd>15.1717986390891</dd>\n",
       "\t<dt>Valiant</dt>\n",
       "\t\t<dd>12.4763954762313</dd>\n",
       "\t<dt>Duster 360</dt>\n",
       "\t\t<dd>16.1473955252353</dd>\n",
       "\t<dt>Merc 240D</dt>\n",
       "\t\t<dd>10.2687907564467</dd>\n",
       "\t<dt>Merc 230</dt>\n",
       "\t\t<dd>10.7565891995198</dd>\n",
       "\t<dt>Merc 280</dt>\n",
       "\t\t<dd>14.4275892485238</dd>\n",
       "\t<dt>Merc 280C</dt>\n",
       "\t\t<dd>14.9153876915969</dd>\n",
       "\t<dt>Merc 450SE</dt>\n",
       "\t\t<dd>18.5863877406009</dd>\n",
       "\t<dt>Merc 450SL</dt>\n",
       "\t\t<dd>19.074186183674</dd>\n",
       "\t<dt>Merc 450SLC</dt>\n",
       "\t\t<dd>19.5619846267471</dd>\n",
       "\t<dt>Cadillac Fleetwood</dt>\n",
       "\t\t<dd>20.0497830698202</dd>\n",
       "\t<dt>Lincoln Continental</dt>\n",
       "\t\t<dd>20.5375815128933</dd>\n",
       "\t<dt>Chrysler Imperial</dt>\n",
       "\t\t<dd>21.0253799559664</dd>\n",
       "\t<dt>Fiat 128</dt>\n",
       "\t\t<dd>15.1467751871778</dd>\n",
       "\t<dt>Honda Civic</dt>\n",
       "\t\t<dd>15.6345736302509</dd>\n",
       "\t<dt>Toyota Corolla</dt>\n",
       "\t\t<dd>16.122372073324</dd>\n",
       "\t<dt>Toyota Corona</dt>\n",
       "\t\t<dd>16.6101705163971</dd>\n",
       "\t<dt>Dodge Challenger</dt>\n",
       "\t\t<dd>23.464372171332</dd>\n",
       "\t<dt>AMC Javelin</dt>\n",
       "\t\t<dd>23.9521706144051</dd>\n",
       "\t<dt>Camaro Z28</dt>\n",
       "\t\t<dd>24.4399690574782</dd>\n",
       "\t<dt>Pontiac Firebird</dt>\n",
       "\t\t<dd>24.9277675005513</dd>\n",
       "\t<dt>Fiat X1-9</dt>\n",
       "\t\t<dd>19.0491627317626</dd>\n",
       "\t<dt>Porsche 914-2</dt>\n",
       "\t\t<dd>19.5369611748357</dd>\n",
       "\t<dt>Lotus Europa</dt>\n",
       "\t\t<dd>20.0247596179089</dd>\n",
       "\t<dt>Ford Pantera L</dt>\n",
       "\t\t<dd>26.8789612728437</dd>\n",
       "\t<dt>Ferrari Dino</dt>\n",
       "\t\t<dd>24.183558109986</dd>\n",
       "\t<dt>Maserati Bora</dt>\n",
       "\t\t<dd>27.85455815899</dd>\n",
       "\t<dt>Volvo 142E</dt>\n",
       "\t\t<dd>21.9759533902013</dd>\n",
       "</dl>\n"
      ],
      "text/latex": [
       "\\begin{description*}\n",
       "\\item[Mazda RX4] 10.0374032608658\n",
       "\\item[Mazda RX4 Wag] 10.5252017039389\n",
       "\\item[Datsun 710] 7.8297985410811\n",
       "\\item[Hornet 4 Drive] 11.5007985900851\n",
       "\\item[Hornet Sportabout] 15.1717986390891\n",
       "\\item[Valiant] 12.4763954762313\n",
       "\\item[Duster 360] 16.1473955252353\n",
       "\\item[Merc 240D] 10.2687907564467\n",
       "\\item[Merc 230] 10.7565891995198\n",
       "\\item[Merc 280] 14.4275892485238\n",
       "\\item[Merc 280C] 14.9153876915969\n",
       "\\item[Merc 450SE] 18.5863877406009\n",
       "\\item[Merc 450SL] 19.074186183674\n",
       "\\item[Merc 450SLC] 19.5619846267471\n",
       "\\item[Cadillac Fleetwood] 20.0497830698202\n",
       "\\item[Lincoln Continental] 20.5375815128933\n",
       "\\item[Chrysler Imperial] 21.0253799559664\n",
       "\\item[Fiat 128] 15.1467751871778\n",
       "\\item[Honda Civic] 15.6345736302509\n",
       "\\item[Toyota Corolla] 16.122372073324\n",
       "\\item[Toyota Corona] 16.6101705163971\n",
       "\\item[Dodge Challenger] 23.464372171332\n",
       "\\item[AMC Javelin] 23.9521706144051\n",
       "\\item[Camaro Z28] 24.4399690574782\n",
       "\\item[Pontiac Firebird] 24.9277675005513\n",
       "\\item[Fiat X1-9] 19.0491627317626\n",
       "\\item[Porsche 914-2] 19.5369611748357\n",
       "\\item[Lotus Europa] 20.0247596179089\n",
       "\\item[Ford Pantera L] 26.8789612728437\n",
       "\\item[Ferrari Dino] 24.183558109986\n",
       "\\item[Maserati Bora] 27.85455815899\n",
       "\\item[Volvo 142E] 21.9759533902013\n",
       "\\end{description*}\n"
      ],
      "text/markdown": [
       "Mazda RX4\n",
       ":   10.0374032608658Mazda RX4 Wag\n",
       ":   10.5252017039389Datsun 710\n",
       ":   7.8297985410811Hornet 4 Drive\n",
       ":   11.5007985900851Hornet Sportabout\n",
       ":   15.1717986390891Valiant\n",
       ":   12.4763954762313Duster 360\n",
       ":   16.1473955252353Merc 240D\n",
       ":   10.2687907564467Merc 230\n",
       ":   10.7565891995198Merc 280\n",
       ":   14.4275892485238Merc 280C\n",
       ":   14.9153876915969Merc 450SE\n",
       ":   18.5863877406009Merc 450SL\n",
       ":   19.074186183674Merc 450SLC\n",
       ":   19.5619846267471Cadillac Fleetwood\n",
       ":   20.0497830698202Lincoln Continental\n",
       ":   20.5375815128933Chrysler Imperial\n",
       ":   21.0253799559664Fiat 128\n",
       ":   15.1467751871778Honda Civic\n",
       ":   15.6345736302509Toyota Corolla\n",
       ":   16.122372073324Toyota Corona\n",
       ":   16.6101705163971Dodge Challenger\n",
       ":   23.464372171332AMC Javelin\n",
       ":   23.9521706144051Camaro Z28\n",
       ":   24.4399690574782Pontiac Firebird\n",
       ":   24.9277675005513Fiat X1-9\n",
       ":   19.0491627317626Porsche 914-2\n",
       ":   19.5369611748357Lotus Europa\n",
       ":   20.0247596179089Ford Pantera L\n",
       ":   26.8789612728437Ferrari Dino\n",
       ":   24.183558109986Maserati Bora\n",
       ":   27.85455815899Volvo 142E\n",
       ":   21.9759533902013\n",
       "\n"
      ],
      "text/plain": [
       "          Mazda RX4       Mazda RX4 Wag          Datsun 710      Hornet 4 Drive \n",
       "          10.037403           10.525202            7.829799           11.500799 \n",
       "  Hornet Sportabout             Valiant          Duster 360           Merc 240D \n",
       "          15.171799           12.476395           16.147396           10.268791 \n",
       "           Merc 230            Merc 280           Merc 280C          Merc 450SE \n",
       "          10.756589           14.427589           14.915388           18.586388 \n",
       "         Merc 450SL         Merc 450SLC  Cadillac Fleetwood Lincoln Continental \n",
       "          19.074186           19.561985           20.049783           20.537582 \n",
       "  Chrysler Imperial            Fiat 128         Honda Civic      Toyota Corolla \n",
       "          21.025380           15.146775           15.634574           16.122372 \n",
       "      Toyota Corona    Dodge Challenger         AMC Javelin          Camaro Z28 \n",
       "          16.610171           23.464372           23.952171           24.439969 \n",
       "   Pontiac Firebird           Fiat X1-9       Porsche 914-2        Lotus Europa \n",
       "          24.927768           19.049163           19.536961           20.024760 \n",
       "     Ford Pantera L        Ferrari Dino       Maserati Bora          Volvo 142E \n",
       "          26.878961           24.183558           27.854558           21.975953 "
      ]
     },
     "metadata": {},
     "output_type": "display_data"
    }
   ],
   "source": [
    "predict(mod)"
   ]
  },
  {
   "cell_type": "code",
   "execution_count": 203,
   "metadata": {
    "ExecuteTime": {
     "end_time": "2020-10-05T09:24:11.067716Z",
     "start_time": "2020-10-05T09:24:10.880Z"
    },
    "scrolled": false
   },
   "outputs": [
    {
     "data": {
      "image/png": "[encoded data removed]",
      "text/plain": [
       "Plot with title “”"
      ]
     },
     "metadata": {},
     "output_type": "display_data"
    },
    {
     "data": {
      "image/png": "[encoded data removed]",
      "text/plain": [
       "Plot with title “”"
      ]
     },
     "metadata": {},
     "output_type": "display_data"
    },
    {
     "data": {
      "image/png": "[encoded data removed]",
      "text/plain": [
       "Plot with title “”"
      ]
     },
     "metadata": {},
     "output_type": "display_data"
    },
    {
     "data": {
      "image/png": "[encoded data removed]",
      "text/plain": [
       "Plot with title “”"
      ]
     },
     "metadata": {},
     "output_type": "display_data"
    }
   ],
   "source": [
    "plot(mod)"
   ]
  },
  {
   "cell_type": "code",
   "execution_count": 230,
   "metadata": {
    "ExecuteTime": {
     "end_time": "2020-10-05T09:32:56.433183Z",
     "start_time": "2020-10-05T09:32:56.400Z"
    }
   },
   "outputs": [
    {
     "data": {
      "image/png": "[encoded data removed]",
      "text/plain": [
       "plot without title"
      ]
     },
     "metadata": {},
     "output_type": "display_data"
    }
   ],
   "source": [
    "df2 <- df[df$hp != boxplot(df$hp)$out, ]"
   ]
  },
  {
   "cell_type": "code",
   "execution_count": 232,
   "metadata": {
    "ExecuteTime": {
     "end_time": "2020-10-05T09:33:14.972054Z",
     "start_time": "2020-10-05T09:33:14.932Z"
    }
   },
   "outputs": [
    {
     "data": {
      "image/png": "[encoded data removed]",
      "text/plain": [
       "plot without title"
      ]
     },
     "metadata": {},
     "output_type": "display_data"
    }
   ],
   "source": [
    "boxplot(df2)"
   ]
  },
  {
   "cell_type": "code",
   "execution_count": 216,
   "metadata": {
    "ExecuteTime": {
     "end_time": "2020-10-05T09:30:48.901035Z",
     "start_time": "2020-10-05T09:30:48.868Z"
    }
   },
   "outputs": [
    {
     "data": {
      "image/png": "[encoded data removed]",
      "text/plain": [
       "plot without title"
      ]
     },
     "metadata": {},
     "output_type": "display_data"
    }
   ],
   "source": [
    "boxplot(df$mpg)"
   ]
  }
 ],
 "metadata": {
  "hide_input": false,
  "kernelspec": {
   "display_name": "R 4.0.2",
   "language": "R",
   "name": "ir"
  },
  "language_info": {
   "codemirror_mode": "r",
   "file_extension": ".r",
   "mimetype": "text/x-r-source",
   "name": "R",
   "pygments_lexer": "r",
   "version": "4.0.4"
  },
  "latex_envs": {
   "LaTeX_envs_menu_present": true,
   "autoclose": true,
   "autocomplete": true,
   "bibliofile": "biblio.bib",
   "cite_by": "apalike",
   "current_citInitial": 1,
   "eqLabelWithNumbers": true,
   "eqNumInitial": 1,
   "hotkeys": {
    "equation": "Ctrl-E",
    "itemize": "Ctrl-I"
   },
   "labels_anchors": false,
   "latex_user_defs": false,
   "report_style_numbering": false,
   "user_envs_cfg": false
  },
  "toc": {
   "base_numbering": 1,
   "nav_menu": {},
   "number_sections": true,
   "sideBar": true,
   "skip_h1_title": false,
   "title_cell": "Table of Contents",
   "title_sidebar": "Contents",
   "toc_cell": false,
   "toc_position": {},
   "toc_section_display": true,
   "toc_window_display": false
  },
  "varInspector": {
   "cols": {
    "lenName": 16,
    "lenType": 16,
    "lenVar": 40
   },
   "kernels_config": {
    "python": {
     "delete_cmd_postfix": "",
     "delete_cmd_prefix": "del ",
     "library": "var_list.py",
     "varRefreshCmd": "print(var_dic_list())"
    },
    "r": {
     "delete_cmd_postfix": ") ",
     "delete_cmd_prefix": "rm(",
     "library": "var_list.r",
     "varRefreshCmd": "cat(var_dic_list()) "
    }
   },
   "types_to_exclude": [
    "module",
    "function",
    "builtin_function_or_method",
    "instance",
    "_Feature"
   ],
   "window_display": false
  }
 },
 "nbformat": 4,
 "nbformat_minor": 2
}
