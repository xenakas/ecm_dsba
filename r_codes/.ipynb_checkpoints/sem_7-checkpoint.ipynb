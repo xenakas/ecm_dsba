{
 "cells": [
  {
   "cell_type": "code",
   "execution_count": 15,
   "metadata": {
    "ExecuteTime": {
     "end_time": "2020-11-16T07:21:41.219306Z",
     "start_time": "2020-11-16T07:21:40.752Z"
    }
   },
   "outputs": [],
   "source": [
    "# library(matlib)"
   ]
  },
  {
   "cell_type": "code",
   "execution_count": 17,
   "metadata": {
    "ExecuteTime": {
     "end_time": "2020-11-16T08:56:06.952781Z",
     "start_time": "2020-11-16T08:56:06.935Z"
    }
   },
   "outputs": [],
   "source": [
    "y = c(3,6,5,3.5,1.5)\n",
    "i = c(40,55,45,30,30)\n",
    "w = c(60,36,36,15,90)"
   ]
  },
  {
   "cell_type": "code",
   "execution_count": 28,
   "metadata": {
    "ExecuteTime": {
     "end_time": "2020-11-16T08:59:31.084955Z",
     "start_time": "2020-11-16T08:59:31.055Z"
    }
   },
   "outputs": [
    {
     "data": {
      "text/html": [
       "<table>\n",
       "<caption>A matrix: 5 × 3 of type dbl</caption>\n",
       "<thead>\n",
       "\t<tr><th scope=col>const</th><th scope=col>i</th><th scope=col>w</th></tr>\n",
       "</thead>\n",
       "<tbody>\n",
       "\t<tr><td>1</td><td>40</td><td>60</td></tr>\n",
       "\t<tr><td>1</td><td>55</td><td>36</td></tr>\n",
       "\t<tr><td>1</td><td>45</td><td>36</td></tr>\n",
       "\t<tr><td>1</td><td>30</td><td>15</td></tr>\n",
       "\t<tr><td>1</td><td>30</td><td>90</td></tr>\n",
       "</tbody>\n",
       "</table>\n"
      ],
      "text/latex": [
       "A matrix: 5 × 3 of type dbl\n",
       "\\begin{tabular}{lll}\n",
       " const & i & w\\\\\n",
       "\\hline\n",
       "\t 1 & 40 & 60\\\\\n",
       "\t 1 & 55 & 36\\\\\n",
       "\t 1 & 45 & 36\\\\\n",
       "\t 1 & 30 & 15\\\\\n",
       "\t 1 & 30 & 90\\\\\n",
       "\\end{tabular}\n"
      ],
      "text/markdown": [
       "\n",
       "A matrix: 5 × 3 of type dbl\n",
       "\n",
       "| const | i | w |\n",
       "|---|---|---|\n",
       "| 1 | 40 | 60 |\n",
       "| 1 | 55 | 36 |\n",
       "| 1 | 45 | 36 |\n",
       "| 1 | 30 | 15 |\n",
       "| 1 | 30 | 90 |\n",
       "\n"
      ],
      "text/plain": [
       "     const i  w \n",
       "[1,] 1     40 60\n",
       "[2,] 1     55 36\n",
       "[3,] 1     45 36\n",
       "[4,] 1     30 15\n",
       "[5,] 1     30 90"
      ]
     },
     "metadata": {},
     "output_type": "display_data"
    }
   ],
   "source": [
    "y=as.matrix(data.frame(y=y))\n",
    "X=as.matrix(data.frame(const=1,i=i,w=w))\n",
    "X"
   ]
  },
  {
   "cell_type": "code",
   "execution_count": 29,
   "metadata": {
    "ExecuteTime": {
     "end_time": "2020-11-16T08:59:32.903896Z",
     "start_time": "2020-11-16T08:59:32.886Z"
    }
   },
   "outputs": [
    {
     "data": {
      "text/html": [
       "<table>\n",
       "<caption>A matrix: 3 × 1 of type dbl</caption>\n",
       "<thead>\n",
       "\t<tr><th></th><th scope=col>y</th></tr>\n",
       "</thead>\n",
       "<tbody>\n",
       "\t<tr><th scope=row>const</th><td> 0.27873866</td></tr>\n",
       "\t<tr><th scope=row>i</th><td> 0.12287913</td></tr>\n",
       "\t<tr><th scope=row>w</th><td>-0.02940725</td></tr>\n",
       "</tbody>\n",
       "</table>\n"
      ],
      "text/latex": [
       "A matrix: 3 × 1 of type dbl\n",
       "\\begin{tabular}{r|l}\n",
       "  & y\\\\\n",
       "\\hline\n",
       "\tconst &  0.27873866\\\\\n",
       "\ti &  0.12287913\\\\\n",
       "\tw & -0.02940725\\\\\n",
       "\\end{tabular}\n"
      ],
      "text/markdown": [
       "\n",
       "A matrix: 3 × 1 of type dbl\n",
       "\n",
       "| <!--/--> | y |\n",
       "|---|---|\n",
       "| const |  0.27873866 |\n",
       "| i |  0.12287913 |\n",
       "| w | -0.02940725 |\n",
       "\n"
      ],
      "text/plain": [
       "      y          \n",
       "const  0.27873866\n",
       "i      0.12287913\n",
       "w     -0.02940725"
      ]
     },
     "metadata": {},
     "output_type": "display_data"
    }
   ],
   "source": [
    "b = solve(t(X)%*%X)%*%(t(X)%*%y)\n",
    "b"
   ]
  },
  {
   "cell_type": "code",
   "execution_count": null,
   "metadata": {
    "ExecuteTime": {
     "end_time": "2020-11-16T09:02:12.563337Z",
     "start_time": "2020-11-16T09:02:12.537Z"
    }
   },
   "outputs": [],
   "source": [
    "H = matrix(c(1,0,0,0,1,2), nrow=2, ncol=3, byrow=T)\n",
    "H \n",
    "\n",
    "r = matrix(c(3,0), nrow=2, ncol=1, byrow=T)\n",
    "r "
   ]
  },
  {
   "cell_type": "code",
   "execution_count": 48,
   "metadata": {
    "ExecuteTime": {
     "end_time": "2020-11-16T09:28:37.881514Z",
     "start_time": "2020-11-16T09:28:37.870Z"
    }
   },
   "outputs": [],
   "source": [
    "f_n = (t(H%*%b-r)%*%solve(H%*%solve(t(X)%*%X)%*%t(H))%*%(H%*%b-r))/2"
   ]
  },
  {
   "cell_type": "code",
   "execution_count": 49,
   "metadata": {
    "ExecuteTime": {
     "end_time": "2020-11-16T09:28:38.344451Z",
     "start_time": "2020-11-16T09:28:38.328Z"
    }
   },
   "outputs": [],
   "source": [
    "f_d = t(y)%*%y-t(b)%*%t(X)%*%y/(5-3)"
   ]
  },
  {
   "cell_type": "code",
   "execution_count": 50,
   "metadata": {
    "ExecuteTime": {
     "end_time": "2020-11-16T09:28:38.704225Z",
     "start_time": "2020-11-16T09:28:38.677Z"
    }
   },
   "outputs": [
    {
     "data": {
      "text/html": [
       "<table>\n",
       "<caption>A matrix: 1 × 1 of type dbl</caption>\n",
       "<thead>\n",
       "\t<tr><th></th><th scope=col>y</th></tr>\n",
       "</thead>\n",
       "<tbody>\n",
       "\t<tr><th scope=row>y</th><td>0.0204487</td></tr>\n",
       "</tbody>\n",
       "</table>\n"
      ],
      "text/latex": [
       "A matrix: 1 × 1 of type dbl\n",
       "\\begin{tabular}{r|l}\n",
       "  & y\\\\\n",
       "\\hline\n",
       "\ty & 0.0204487\\\\\n",
       "\\end{tabular}\n"
      ],
      "text/markdown": [
       "\n",
       "A matrix: 1 × 1 of type dbl\n",
       "\n",
       "| <!--/--> | y |\n",
       "|---|---|\n",
       "| y | 0.0204487 |\n",
       "\n"
      ],
      "text/plain": [
       "  y        \n",
       "y 0.0204487"
      ]
     },
     "metadata": {},
     "output_type": "display_data"
    }
   ],
   "source": [
    "F = f_n/f_d\n",
    "F"
   ]
  },
  {
   "cell_type": "code",
   "execution_count": 53,
   "metadata": {
    "ExecuteTime": {
     "end_time": "2020-11-16T09:29:06.139291Z",
     "start_time": "2020-11-16T09:29:06.124Z"
    }
   },
   "outputs": [
    {
     "data": {
      "text/html": [
       "9"
      ],
      "text/latex": [
       "9"
      ],
      "text/markdown": [
       "9"
      ],
      "text/plain": [
       "[1] 9"
      ]
     },
     "metadata": {},
     "output_type": "display_data"
    }
   ],
   "source": [
    "qf(0.9,2,2)"
   ]
  }
 ],
 "metadata": {
  "hide_input": false,
  "kernelspec": {
   "display_name": "R 4.0.2",
   "language": "R",
   "name": "ir"
  },
  "language_info": {
   "codemirror_mode": "r",
   "file_extension": ".r",
   "mimetype": "text/x-r-source",
   "name": "R",
   "pygments_lexer": "r",
   "version": "4.0.4"
  },
  "latex_envs": {
   "LaTeX_envs_menu_present": true,
   "autoclose": true,
   "autocomplete": true,
   "bibliofile": "biblio.bib",
   "cite_by": "apalike",
   "current_citInitial": 1,
   "eqLabelWithNumbers": true,
   "eqNumInitial": 1,
   "hotkeys": {
    "equation": "Ctrl-E",
    "itemize": "Ctrl-I"
   },
   "labels_anchors": false,
   "latex_user_defs": false,
   "report_style_numbering": false,
   "user_envs_cfg": false
  },
  "toc": {
   "base_numbering": 1,
   "nav_menu": {},
   "number_sections": true,
   "sideBar": true,
   "skip_h1_title": false,
   "title_cell": "Table of Contents",
   "title_sidebar": "Contents",
   "toc_cell": false,
   "toc_position": {},
   "toc_section_display": true,
   "toc_window_display": false
  },
  "varInspector": {
   "cols": {
    "lenName": 16,
    "lenType": 16,
    "lenVar": 40
   },
   "kernels_config": {
    "python": {
     "delete_cmd_postfix": "",
     "delete_cmd_prefix": "del ",
     "library": "var_list.py",
     "varRefreshCmd": "print(var_dic_list())"
    },
    "r": {
     "delete_cmd_postfix": ") ",
     "delete_cmd_prefix": "rm(",
     "library": "var_list.r",
     "varRefreshCmd": "cat(var_dic_list()) "
    }
   },
   "types_to_exclude": [
    "module",
    "function",
    "builtin_function_or_method",
    "instance",
    "_Feature"
   ],
   "window_display": false
  }
 },
 "nbformat": 4,
 "nbformat_minor": 2
}
